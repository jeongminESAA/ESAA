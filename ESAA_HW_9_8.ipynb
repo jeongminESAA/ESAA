{
  "nbformat": 4,
  "nbformat_minor": 0,
  "metadata": {
    "colab": {
      "provenance": [],
      "authorship_tag": "ABX9TyO3EYVkbmsbsGz+Cfvu2sca",
      "include_colab_link": true
    },
    "kernelspec": {
      "name": "python3",
      "display_name": "Python 3"
    },
    "language_info": {
      "name": "python"
    }
  },
  "cells": [
    {
      "cell_type": "markdown",
      "metadata": {
        "id": "view-in-github",
        "colab_type": "text"
      },
      "source": [
        "<a href=\"https://colab.research.google.com/github/jeongminESAA/ESAA/blob/main/ESAA_HW_9_8.ipynb\" target=\"_parent\"><img src=\"https://colab.research.google.com/assets/colab-badge.svg\" alt=\"Open In Colab\"/></a>"
      ]
    },
    {
      "cell_type": "markdown",
      "source": [
        "## [넘파이]\n",
        "\n",
        "*   선형대수 기반의 프로그램을 쉽게 만들 수 있도록 지원하는 패키지\n",
        "*   루프를 사용하지 않아 대량 데이터의 빠른 배열 연산 속도 보장\n",
        "*   저수준 언어 기반의 호환 API 제공\n"
      ],
      "metadata": {
        "id": "EjLonjaryEnm"
      }
    },
    {
      "cell_type": "markdown",
      "source": [
        "\n",
        "\n",
        "---\n",
        "\n",
        "### 넘파이 ndarray 개요\n",
        "*   넘파이 모듈 임포트, as np를 추가해 약어로 모듈 표현"
      ],
      "metadata": {
        "id": "YqSPRymELBwr"
      }
    },
    {
      "cell_type": "code",
      "execution_count": 2,
      "metadata": {
        "id": "lGiMDveNxFp0"
      },
      "outputs": [],
      "source": [
        "import numpy as np"
      ]
    },
    {
      "cell_type": "markdown",
      "source": [
        "*   넘파이 기반 데이터 타입은 ndarray\n",
        "*   다차원 배열을 쉽게 생성하고 다양한 연산 수행 가능\n",
        "\n",
        "array() : 다양한 인자를 입력 받아서 ndarray로 변환하는 기능 수행"
      ],
      "metadata": {
        "id": "A1h6Makq0irw"
      }
    },
    {
      "cell_type": "code",
      "source": [
        "array1 = np.array([1,2,3])\n",
        "print('array1 type:',type(array1))\n",
        "print('array1 array 형태:', array1.shape)      #1차원 array, 3개의 데이터\n",
        "\n",
        "array2 = np.array ([[1,2,3],\n",
        "                    [2,3,4]])\n",
        "print('array2 type:',type(array2))\n",
        "print('array2 array 형태:', array2.shape)      #2차원 array, 2개의 로우와 3개의 칼럼, 6개의 데이터\n",
        "\n",
        "array3 = np.array ([[1,2,3]])\n",
        "print('array3 type:',type(array3))\n",
        "print('array3 array 형태:', array3.shape)      #2차원 array, 1개의 로우와 3개의 칼럼, 3개의 데이터"
      ],
      "metadata": {
        "colab": {
          "base_uri": "https://localhost:8080/"
        },
        "id": "QthyBGY14UFP",
        "outputId": "da1a5875-b945-44ce-f102-23b43bbfd0fe"
      },
      "execution_count": 3,
      "outputs": [
        {
          "output_type": "stream",
          "name": "stdout",
          "text": [
            "array1 type: <class 'numpy.ndarray'>\n",
            "array1 array 형태: (3,)\n",
            "array2 type: <class 'numpy.ndarray'>\n",
            "array2 array 형태: (2, 3)\n",
            "array3 type: <class 'numpy.ndarray'>\n",
            "array3 array 형태: (1, 3)\n"
          ]
        }
      ]
    },
    {
      "cell_type": "code",
      "source": [
        "print('array1: {:0}차원, array2: {:1}차원, array3: {:2}차원'.format(array1.ndim, array2.ndim, array3.ndim))"
      ],
      "metadata": {
        "colab": {
          "base_uri": "https://localhost:8080/"
        },
        "id": "1LkUh3-uEuXk",
        "outputId": "0024c833-0b5b-4b8f-921a-0a2e4ee3cd4a"
      },
      "execution_count": 4,
      "outputs": [
        {
          "output_type": "stream",
          "name": "stdout",
          "text": [
            "array1: 1차원, array2: 2차원, array3:  2차원\n"
          ]
        }
      ]
    },
    {
      "cell_type": "markdown",
      "source": [
        "\n",
        "*   리스트 [ ] 는 1차원, 리스트의 리스트 [ [ ] ] 는 2차원\n"
      ],
      "metadata": {
        "id": "9VAhlAEwFJL2"
      }
    },
    {
      "cell_type": "markdown",
      "source": [
        "\n",
        "\n",
        "---\n",
        "\n",
        "\n",
        "\n",
        "### ndarray의 데이터 타입\n",
        "*   데이터값은 숫자, 문자열, 불 등 모두 가능\n",
        "*   한 개의 ndarray 객체에는 연산의 특성상 같은 데이터 타입만 가능\n",
        "\n"
      ],
      "metadata": {
        "id": "nhLmJVFqFX8b"
      }
    },
    {
      "cell_type": "code",
      "source": [
        "list1 = [1,2,3]\n",
        "print(type(list1))\n",
        "array1 = np.array(list1)\n",
        "print(type(array1))\n",
        "print(array1, array1.dtype)"
      ],
      "metadata": {
        "colab": {
          "base_uri": "https://localhost:8080/"
        },
        "id": "f6tCcMkhG2ZM",
        "outputId": "7147bf36-a392-4e3c-b5fc-ee0499d010ee"
      },
      "execution_count": 5,
      "outputs": [
        {
          "output_type": "stream",
          "name": "stdout",
          "text": [
            "<class 'list'>\n",
            "<class 'numpy.ndarray'>\n",
            "[1 2 3] int64\n"
          ]
        }
      ]
    },
    {
      "cell_type": "code",
      "source": [
        "list2 = [1,2,'test']\n",
        "array2 = np.array(list2)\n",
        "print(array2, array2.dtype)\n",
        "\n",
        "list3 = [1,2,3.0]\n",
        "array3 = np.array(list3)\n",
        "print(array3, array3.dtype)"
      ],
      "metadata": {
        "colab": {
          "base_uri": "https://localhost:8080/"
        },
        "id": "FIKFBCJLIYaE",
        "outputId": "f83291d5-6e5e-4c46-b55b-df3fcd50b03f"
      },
      "execution_count": 6,
      "outputs": [
        {
          "output_type": "stream",
          "name": "stdout",
          "text": [
            "['1' '2' 'test'] <U21\n",
            "[1. 2. 3.] float64\n"
          ]
        }
      ]
    },
    {
      "cell_type": "markdown",
      "source": [
        "*   array2의 경우 숫자형 값 1, 2가 모두 문자열로 변환\n",
        "*   array3의 경우 int형 1, 2가 모두 float형으로 변환"
      ],
      "metadata": {
        "id": "xfsgYSX4Jbls"
      }
    },
    {
      "cell_type": "code",
      "source": [
        "array_int = np.array([1,2,3])\n",
        "array_float = array_int.astype('float64')\n",
        "print(array_float, array_float.dtype)\n",
        "\n",
        "array_int1 = array_float.astype('int32')\n",
        "print(array_int1, array_int1.dtype)\n",
        "\n",
        "array_float1 = np.array([1.1,2.1,3.1])\n",
        "array_int2 = array_float1.astype('int32')\n",
        "print(array_int2, array_int2.dtype)"
      ],
      "metadata": {
        "colab": {
          "base_uri": "https://localhost:8080/"
        },
        "id": "-mSm9WyMKDi7",
        "outputId": "ab8a69c8-f0f9-4b1b-f26c-52d84cce5179"
      },
      "execution_count": 7,
      "outputs": [
        {
          "output_type": "stream",
          "name": "stdout",
          "text": [
            "[1. 2. 3.] float64\n",
            "[1 2 3] int32\n",
            "[1 2 3] int32\n"
          ]
        }
      ]
    },
    {
      "cell_type": "markdown",
      "source": [
        "*   astype() 함수를 이용해 데이터 값의 타입 변경 가능\n",
        "*   () 안에 인자로 원하는 타입을 문자열로 지정\n",
        "*   메모리를 더 절약해야 할 때 보통 이용됨\n"
      ],
      "metadata": {
        "id": "aFPHNkIaKmD3"
      }
    },
    {
      "cell_type": "markdown",
      "source": [
        "\n",
        "---\n",
        "###ndarray를 편리하게 생성하기 - arange, zeros, ones\n",
        "*   특정 크기와 차원을 가진 ndarray를 연속값이나 0 또는 1로 초기화해 쉽게 생성해야 할 필요가 있는 경우에 사용\n",
        "*   주로 테스트용으로 데이터를 만들거나 대규모의 데이터를 일괄적으로 초기화해야 할 경우에 사용"
      ],
      "metadata": {
        "id": "STi1P-9CLPfN"
      }
    },
    {
      "cell_type": "code",
      "source": [
        "sequence_array = np.arange(10)\n",
        "print(sequence_array)\n",
        "print(sequence_array.dtype, sequence_array.shape)"
      ],
      "metadata": {
        "colab": {
          "base_uri": "https://localhost:8080/"
        },
        "id": "aqAyJT76MnKi",
        "outputId": "6c8a4f9b-51a6-4ebe-d3fd-cd7a3a2b9a39"
      },
      "execution_count": 8,
      "outputs": [
        {
          "output_type": "stream",
          "name": "stdout",
          "text": [
            "[0 1 2 3 4 5 6 7 8 9]\n",
            "int64 (10,)\n"
          ]
        }
      ]
    },
    {
      "cell_type": "markdown",
      "source": [
        "*   arange()는 range()와 유사한 기능, array를 range()로 표현하는 것\n",
        "*   0부터 함수 인자 값 -1 까지의 값을 순차적으로 ndarray의 데이터 값으로 변환해줌"
      ],
      "metadata": {
        "id": "qq_nyHwWOlr1"
      }
    },
    {
      "cell_type": "code",
      "source": [
        "zero_array = np.zeros((3,2), dtype = 'int32')\n",
        "print(zero_array)\n",
        "print(zero_array.dtype, zero_array.shape)\n",
        "\n",
        "one_array = np.ones((3,2))\n",
        "print(one_array)\n",
        "print(one_array.dtype, one_array.shape)"
      ],
      "metadata": {
        "colab": {
          "base_uri": "https://localhost:8080/"
        },
        "id": "TUWkUk15O1ob",
        "outputId": "ab7a5556-d7a3-43f7-86b0-f2f10785a1e6"
      },
      "execution_count": 9,
      "outputs": [
        {
          "output_type": "stream",
          "name": "stdout",
          "text": [
            "[[0 0]\n",
            " [0 0]\n",
            " [0 0]]\n",
            "int32 (3, 2)\n",
            "[[1. 1.]\n",
            " [1. 1.]\n",
            " [1. 1.]]\n",
            "float64 (3, 2)\n"
          ]
        }
      ]
    },
    {
      "cell_type": "markdown",
      "source": [
        "\n",
        "*   zeros()는 튜플 형태의 shape 값을 입력하면 모든 값을 0으로 채운 해당 shape를 가진 ndarray를 반환\n",
        "*   ones()는 유사하게 1로 채운 ndarray를 반환\n",
        "*   dtype을 정해주지 않으면 default로 float64형의 데이터로 채움"
      ],
      "metadata": {
        "id": "C19h4nqAWHM2"
      }
    },
    {
      "cell_type": "markdown",
      "source": [
        "\n",
        "---\n",
        "###ndarray의 차원과 크기를 변경하는 reshape()\n",
        "\n",
        "\n",
        "*   reshape()는 ndarray를 특정 차원 및 원하는 크기로 변환\n",
        "\n"
      ],
      "metadata": {
        "id": "548H_mTCWfnE"
      }
    },
    {
      "cell_type": "code",
      "source": [
        "array1 = np.arange(10)\n",
        "print('array1:\\n', array1)\n",
        "\n",
        "array2 = array1.reshape(2,5)\n",
        "print('array2:\\n', array2)\n",
        "\n",
        "array3 = array1.reshape(5,2)\n",
        "print('array3:\\n', array3)"
      ],
      "metadata": {
        "colab": {
          "base_uri": "https://localhost:8080/"
        },
        "id": "_sUnTRv8WtFd",
        "outputId": "01b0153d-bcfd-4215-e323-1826ce7279b2"
      },
      "execution_count": 10,
      "outputs": [
        {
          "output_type": "stream",
          "name": "stdout",
          "text": [
            "array1:\n",
            " [0 1 2 3 4 5 6 7 8 9]\n",
            "array2:\n",
            " [[0 1 2 3 4]\n",
            " [5 6 7 8 9]]\n",
            "array3:\n",
            " [[0 1]\n",
            " [2 3]\n",
            " [4 5]\n",
            " [6 7]\n",
            " [8 9]]\n"
          ]
        }
      ]
    },
    {
      "cell_type": "markdown",
      "source": [
        "*   지정된 사이즈로 변경이 불가능하면 오류 발생"
      ],
      "metadata": {
        "id": "DR4EHOLmXLAi"
      }
    },
    {
      "cell_type": "code",
      "source": [
        "array1.reshape(4,3)"
      ],
      "metadata": {
        "colab": {
          "base_uri": "https://localhost:8080/",
          "height": 184
        },
        "id": "HjH19keBXD6s",
        "outputId": "61486d41-64cb-41f8-9228-b71748954c36"
      },
      "execution_count": 11,
      "outputs": [
        {
          "output_type": "error",
          "ename": "ValueError",
          "evalue": "ignored",
          "traceback": [
            "\u001b[0;31m---------------------------------------------------------------------------\u001b[0m",
            "\u001b[0;31mValueError\u001b[0m                                Traceback (most recent call last)",
            "\u001b[0;32m<ipython-input-11-a40469ec5825>\u001b[0m in \u001b[0;36m<cell line: 1>\u001b[0;34m()\u001b[0m\n\u001b[0;32m----> 1\u001b[0;31m \u001b[0marray1\u001b[0m\u001b[0;34m.\u001b[0m\u001b[0mreshape\u001b[0m\u001b[0;34m(\u001b[0m\u001b[0;36m4\u001b[0m\u001b[0;34m,\u001b[0m\u001b[0;36m3\u001b[0m\u001b[0;34m)\u001b[0m\u001b[0;34m\u001b[0m\u001b[0;34m\u001b[0m\u001b[0m\n\u001b[0m",
            "\u001b[0;31mValueError\u001b[0m: cannot reshape array of size 10 into shape (4,3)"
          ]
        }
      ]
    },
    {
      "cell_type": "markdown",
      "source": [
        "\n",
        "\n",
        "*   -1 을 인자로 사용하면 원래 ndarray와 호환되는 새로운 shape로 변환해줌\n",
        "\n"
      ],
      "metadata": {
        "id": "HFxhNthvXvVB"
      }
    },
    {
      "cell_type": "code",
      "source": [
        "array1 = np.arange(10)\n",
        "print(array1)\n",
        "array2 = array1.reshape(-1,5)            # 고정된 5개의 칼럼에 맞는 로우를 자동으로 새롭게 생성해 변환하라는 의미\n",
        "print('array2 shape:', array2.shape)\n",
        "array3 = array1.reshape(5,-1)\n",
        "print('array3 shape:', array3.shape)"
      ],
      "metadata": {
        "colab": {
          "base_uri": "https://localhost:8080/"
        },
        "id": "H-sDn1mPXNY4",
        "outputId": "2d55c9ee-a0b8-43a9-ad3a-9e1fec85b24b"
      },
      "execution_count": 12,
      "outputs": [
        {
          "output_type": "stream",
          "name": "stdout",
          "text": [
            "[0 1 2 3 4 5 6 7 8 9]\n",
            "array2 shape: (2, 5)\n",
            "array3 shape: (5, 2)\n"
          ]
        }
      ]
    },
    {
      "cell_type": "markdown",
      "source": [
        "\n",
        "\n",
        "*   마찬가지로 변경이 불가능한 사이즈일 경우 오류 발생\n",
        "\n",
        "\n"
      ],
      "metadata": {
        "id": "_h5ZPyihrD0Z"
      }
    },
    {
      "cell_type": "code",
      "source": [
        "array1 = np.arange(10)\n",
        "array4 = array1.reshape(-1,4)"
      ],
      "metadata": {
        "colab": {
          "base_uri": "https://localhost:8080/",
          "height": 203
        },
        "id": "H8fRw1k7q9NV",
        "outputId": "4f900215-85f6-4f2c-bc24-905fdc96e0a5"
      },
      "execution_count": 13,
      "outputs": [
        {
          "output_type": "error",
          "ename": "ValueError",
          "evalue": "ignored",
          "traceback": [
            "\u001b[0;31m---------------------------------------------------------------------------\u001b[0m",
            "\u001b[0;31mValueError\u001b[0m                                Traceback (most recent call last)",
            "\u001b[0;32m<ipython-input-13-07da9760475e>\u001b[0m in \u001b[0;36m<cell line: 2>\u001b[0;34m()\u001b[0m\n\u001b[1;32m      1\u001b[0m \u001b[0marray1\u001b[0m \u001b[0;34m=\u001b[0m \u001b[0mnp\u001b[0m\u001b[0;34m.\u001b[0m\u001b[0marange\u001b[0m\u001b[0;34m(\u001b[0m\u001b[0;36m10\u001b[0m\u001b[0;34m)\u001b[0m\u001b[0;34m\u001b[0m\u001b[0;34m\u001b[0m\u001b[0m\n\u001b[0;32m----> 2\u001b[0;31m \u001b[0marray4\u001b[0m \u001b[0;34m=\u001b[0m \u001b[0marray1\u001b[0m\u001b[0;34m.\u001b[0m\u001b[0mreshape\u001b[0m\u001b[0;34m(\u001b[0m\u001b[0;34m-\u001b[0m\u001b[0;36m1\u001b[0m\u001b[0;34m,\u001b[0m\u001b[0;36m4\u001b[0m\u001b[0;34m)\u001b[0m\u001b[0;34m\u001b[0m\u001b[0;34m\u001b[0m\u001b[0m\n\u001b[0m",
            "\u001b[0;31mValueError\u001b[0m: cannot reshape array of size 10 into shape (4)"
          ]
        }
      ]
    },
    {
      "cell_type": "markdown",
      "source": [
        "\n",
        "\n",
        "*   reshape(-1,1)와 같은 형태로 자주 사용\n",
        "*   ndarray가 어떤 형태라도 2차원이고, 여러 개의 로우를 반드시 가지되 반드시 1개의 칼럼을 가진 ndarray로 변환됨을 보장\n",
        "\n"
      ],
      "metadata": {
        "id": "17a4mbgPry5f"
      }
    },
    {
      "cell_type": "code",
      "source": [
        "array1 = np.arange(8)\n",
        "array3d = array1.reshape((2,2,2))\n",
        "print('array3d:\\n', array3d.tolist())\n",
        "\n",
        "# 3차원 ndarray를 2차원 ndarray로 변환\n",
        "array5 = array3d.reshape(-1,1)\n",
        "print('array5:\\n', array5.tolist())\n",
        "print('array5 shape:', array5.shape)\n",
        "\n",
        "# 1차원 ndarray를 2차원 ndarray로 변환\n",
        "array6 = array1.reshape(-1,1)\n",
        "print('array6:\\n', array6.tolist())\n",
        "print('array6 shape:', array6.shape)"
      ],
      "metadata": {
        "colab": {
          "base_uri": "https://localhost:8080/"
        },
        "id": "uwZIgcSxrSEH",
        "outputId": "4b0011b9-8d4a-4f2d-fe2b-a412326555a9"
      },
      "execution_count": 14,
      "outputs": [
        {
          "output_type": "stream",
          "name": "stdout",
          "text": [
            "array3d:\n",
            " [[[0, 1], [2, 3]], [[4, 5], [6, 7]]]\n",
            "array5:\n",
            " [[0], [1], [2], [3], [4], [5], [6], [7]]\n",
            "array5 shape: (8, 1)\n",
            "array6:\n",
            " [[0], [1], [2], [3], [4], [5], [6], [7]]\n",
            "array6 shape: (8, 1)\n"
          ]
        }
      ]
    },
    {
      "cell_type": "markdown",
      "source": [
        "---\n",
        "###넘파이의 ndarray의 데이터 세트 선택하기 - 인덱싱(Indexing)\n",
        "\n",
        "\n",
        "*   ndarray 내의 일부 데이터 세트나 특정 데이터만을 선택할 수 있도록 하는 인덱싱\n",
        "\n",
        "\n",
        "> 1.   특정한 데이터만 추출 : 원하는 인덱스 값을 지정하면 해당 위치의 데이터가 반환됨\n",
        "2.   슬라이싱(Slicing) : 연속된 인덱스상의 ndarray를 추출, 'a:b' 기호 사용하여 시작 인덱스 a와 종료 인덱스 b-1 까지에 해당하는 ndarray가 반환됨\n",
        "3. 팬시 인덱싱(Fancy Indexing) : 일정한 인덱싱 집합을 리스트 또는 ndarray 형태로 지정해 해당 위치에 있는 데이터의 ndarray를 반환함\n",
        "4. 불린 인덱싱(Boolean Indexing) : 특정 조건에 해당하는지 True/False 값 인덱싱 집합을 기반으로 True에 해당하는 인덱스 위치에 있는 데이터의 ndarray를 반환함\n",
        "\n",
        "\n",
        "\n"
      ],
      "metadata": {
        "id": "qRSWSh1HsII_"
      }
    },
    {
      "cell_type": "markdown",
      "source": [
        "####단일값 추출\n",
        "\n",
        "*   한 개의 데이터만을 추출\n",
        "*   객체에 해당하는 위치의 인덱스 값을 [ ] 안에 입력하면 됨\n"
      ],
      "metadata": {
        "id": "PvnnEfjetK76"
      }
    },
    {
      "cell_type": "code",
      "source": [
        "# 1부터 9까지의 1차원 ndarray 생성\n",
        "array1 = np.arange(start=1, stop=10)\n",
        "print('array1:', array1)\n",
        "# index는 0부터 시작하므로 array1[2]는 3번째 index 위치의 데이터 값을 의미\n",
        "value = array1[2]\n",
        "print('value:', value)\n",
        "print(type(value))"
      ],
      "metadata": {
        "colab": {
          "base_uri": "https://localhost:8080/"
        },
        "id": "IHXDtXnNtZVj",
        "outputId": "a77bc96e-fe5d-4889-d07f-390fedc7ddb5"
      },
      "execution_count": 15,
      "outputs": [
        {
          "output_type": "stream",
          "name": "stdout",
          "text": [
            "array1: [1 2 3 4 5 6 7 8 9]\n",
            "value: 3\n",
            "<class 'numpy.int64'>\n"
          ]
        }
      ]
    },
    {
      "cell_type": "markdown",
      "source": [
        "*   -1 은 맨 뒤의 데이터 값을 의미"
      ],
      "metadata": {
        "id": "vZbhzlw1viBJ"
      }
    },
    {
      "cell_type": "code",
      "source": [
        "print('맨 뒤의 값:', array1[-1], '맨 뒤에서 두번째 값:', array1[-2])"
      ],
      "metadata": {
        "colab": {
          "base_uri": "https://localhost:8080/"
        },
        "id": "6Q6hs7_at51P",
        "outputId": "eb7112e4-0c2f-48a4-9c84-5ac4113a7b4e"
      },
      "execution_count": 16,
      "outputs": [
        {
          "output_type": "stream",
          "name": "stdout",
          "text": [
            "맨 뒤의 값: 9 맨 뒤에서 두번째 값: 8\n"
          ]
        }
      ]
    },
    {
      "cell_type": "markdown",
      "source": [
        "* 단일 인덱스를 이용해 ndarray 내의 데이터 값도 간단히 수정 가능"
      ],
      "metadata": {
        "id": "I7QZQ8pivkl2"
      }
    },
    {
      "cell_type": "code",
      "source": [
        "array1[0] = 9\n",
        "array1[8] = 0\n",
        "print('array1:', array1)"
      ],
      "metadata": {
        "colab": {
          "base_uri": "https://localhost:8080/"
        },
        "id": "A_3S3vVBvRnE",
        "outputId": "8b86d71e-e4cf-459f-9bc3-381649d6f1dc"
      },
      "execution_count": 17,
      "outputs": [
        {
          "output_type": "stream",
          "name": "stdout",
          "text": [
            "array1: [9 2 3 4 5 6 7 8 0]\n"
          ]
        }
      ]
    },
    {
      "cell_type": "markdown",
      "source": [
        "\n",
        "\n",
        "*   다차원 ndarray에서 단일 값 추출\n",
        "*   콤마(,)로 분리된 로우와 칼럼 위치의 인덱스를 통해 접근\n",
        "*   axis 0 은 로우 방향의 축, axis 1 은 칼럼 방향의 축\n",
        "\n",
        "\n",
        "\n"
      ],
      "metadata": {
        "id": "YTGxhG2qwDqT"
      }
    },
    {
      "cell_type": "code",
      "source": [
        "array1d = np.arange(start=1, stop=10)\n",
        "array2d = array1d.reshape(3,3)\n",
        "print(array2d)\n",
        "\n",
        "print('(row=0, col=0) index 가리키는 값:', array2d[0,0])\n",
        "print('(row=0, col=1) index 가리키는 값:', array2d[0,1])\n",
        "print('(row=1, col=0) index 가리키는 값:', array2d[1,0])\n",
        "print('(row=2, col=2) index 가리키는 값:', array2d[2,2])"
      ],
      "metadata": {
        "colab": {
          "base_uri": "https://localhost:8080/"
        },
        "id": "iF8QcpbxvnjA",
        "outputId": "a0bafa59-8264-45d4-e092-467c7cac0205"
      },
      "execution_count": 18,
      "outputs": [
        {
          "output_type": "stream",
          "name": "stdout",
          "text": [
            "[[1 2 3]\n",
            " [4 5 6]\n",
            " [7 8 9]]\n",
            "(row=0, col=0) index 가리키는 값: 1\n",
            "(row=0, col=1) index 가리키는 값: 2\n",
            "(row=1, col=0) index 가리키는 값: 4\n",
            "(row=2, col=2) index 가리키는 값: 9\n"
          ]
        }
      ]
    },
    {
      "cell_type": "markdown",
      "source": [
        "####슬라이싱\n",
        "\n",
        "*   ':' 기호를 이용해 연속한 데이터를 슬라이싱해서 추출, 시작 인덱스~종료 인덱스-1\n",
        "*   단일 데이터값 추출을 제외한 인덱싱은 ndarray 타입"
      ],
      "metadata": {
        "id": "7diEU6uTwb0d"
      }
    },
    {
      "cell_type": "code",
      "source": [
        "array1 = np.arange(start=1, stop=10)\n",
        "array3 = array1[0:3]\n",
        "print(array3)\n",
        "print(type(array3))"
      ],
      "metadata": {
        "colab": {
          "base_uri": "https://localhost:8080/"
        },
        "id": "ZIVJCs573YvX",
        "outputId": "73a3dd8c-ee17-49b6-8620-3cfe08326e9e"
      },
      "execution_count": 19,
      "outputs": [
        {
          "output_type": "stream",
          "name": "stdout",
          "text": [
            "[1 2 3]\n",
            "<class 'numpy.ndarray'>\n"
          ]
        }
      ]
    },
    {
      "cell_type": "markdown",
      "source": [
        "\n",
        "\n",
        "1.   ':' 기호 앞에 시작 인덱스 생략 시 자동으로 맨 처음 인덱스인 0으로 간주\n",
        "2.   ':' 기호 뒤에 종료 인덱스 생략 시 자동으로 맨 마지막 인덱스로 간주\n",
        "3.   ':' 기호 앞/뒤에 시작/종료 인덱스 생략 시 자동으로 맨 처음/맨 마지막 인덱스로 간주\n",
        "\n"
      ],
      "metadata": {
        "id": "TyE0tcUJ3lfV"
      }
    },
    {
      "cell_type": "code",
      "source": [
        "array1 = np.arange(start=1, stop=10)\n",
        "array4 = array1[:3]\n",
        "print(array4)\n",
        "\n",
        "array5 = array1[3:]\n",
        "print(array5)\n",
        "\n",
        "array6 = array1[:]\n",
        "print(array6)"
      ],
      "metadata": {
        "colab": {
          "base_uri": "https://localhost:8080/"
        },
        "id": "r3RcMJtX30XR",
        "outputId": "2726acbb-8201-49e0-b22e-2aa437a2f291"
      },
      "execution_count": 20,
      "outputs": [
        {
          "output_type": "stream",
          "name": "stdout",
          "text": [
            "[1 2 3]\n",
            "[4 5 6 7 8 9]\n",
            "[1 2 3 4 5 6 7 8 9]\n"
          ]
        }
      ]
    },
    {
      "cell_type": "code",
      "source": [
        "array1d = np.arange(start=1, stop=10)\n",
        "array2d = array1d.reshape(3,3)\n",
        "print('array2d:\\n', array2d)\n",
        "\n",
        "print('array2d[0:2, 0:2] \\n', array2d[0:2, 0:2])      # 1~2행, 1~2열\n",
        "print('array2d[1:3, 0:3] \\n', array2d[1:3, 0:3])      # 2~3행, 1~3열\n",
        "print('array2d[1:3, :] \\n', array2d[1:3, :])          # 2~3행\n",
        "print('array2d[:, :] \\n', array2d[:, :])\n",
        "print('array2d[:2, 1:] \\n', array2d[:2, 1:])\n",
        "print('array2d[:2, 0] \\n', array2d[:2, 0])            # 로우나 칼럼 축 한쪽에만 슬라이싱을 적용하고, 다른 쪽 축에는 단일 값 인덱스를 적용해도 됨"
      ],
      "metadata": {
        "colab": {
          "base_uri": "https://localhost:8080/"
        },
        "id": "6zqjDWye4ML7",
        "outputId": "fb5f333f-b217-43de-d9ee-dd80f8585482"
      },
      "execution_count": 21,
      "outputs": [
        {
          "output_type": "stream",
          "name": "stdout",
          "text": [
            "array2d:\n",
            " [[1 2 3]\n",
            " [4 5 6]\n",
            " [7 8 9]]\n",
            "array2d[0:2, 0:2] \n",
            " [[1 2]\n",
            " [4 5]]\n",
            "array2d[1:3, 0:3] \n",
            " [[4 5 6]\n",
            " [7 8 9]]\n",
            "array2d[1:3, :] \n",
            " [[4 5 6]\n",
            " [7 8 9]]\n",
            "array2d[:, :] \n",
            " [[1 2 3]\n",
            " [4 5 6]\n",
            " [7 8 9]]\n",
            "array2d[:2, 1:] \n",
            " [[2 3]\n",
            " [5 6]]\n",
            "array2d[:2, 0] \n",
            " [1 4]\n"
          ]
        }
      ]
    },
    {
      "cell_type": "markdown",
      "source": [
        "\n",
        "\n",
        "*   2차원에서 뒤에 오는 인덱스를 없애면 1차원 ndarray를 반환\n",
        "\n",
        "\n"
      ],
      "metadata": {
        "id": "vmEsC7jS6PG_"
      }
    },
    {
      "cell_type": "code",
      "source": [
        "print(array2d[0])         # 첫번째 로우 반환\n",
        "print(array2d[1])\n",
        "print('array2d[0] shape:', array2d[0].shape, 'array2d[1] shape:', array2d[1].shape)"
      ],
      "metadata": {
        "colab": {
          "base_uri": "https://localhost:8080/"
        },
        "id": "oPL2U3Fd5_G-",
        "outputId": "05b7170f-a615-442b-f43d-c45eab9ed968"
      },
      "execution_count": 22,
      "outputs": [
        {
          "output_type": "stream",
          "name": "stdout",
          "text": [
            "[1 2 3]\n",
            "[4 5 6]\n",
            "array2d[0] shape: (3,) array2d[1] shape: (3,)\n"
          ]
        }
      ]
    },
    {
      "cell_type": "markdown",
      "source": [
        "####팬시 인덱싱\n",
        "\n",
        "*   리스트나 ndarray로 인덱스 집합을 지정하면 해당 위치의 인덱스에 해당하는 ndarray를 반환"
      ],
      "metadata": {
        "id": "bfQoIvny6kCF"
      }
    },
    {
      "cell_type": "code",
      "source": [
        "array1d = np.arange(start=1, stop=10)\n",
        "array2d = array1d.reshape(3,3)\n",
        "\n",
        "array3 = array2d[[0,1], 2]                             # 로우에 팬시 인덱싱인 [0,1], 칼럼에 단일 값 인덱싱 2\n",
        "print('array2d[[0,1], 2] => ', array3.tolist())\n",
        "\n",
        "array4 = array2d[[0,1], 0:2]\n",
        "print('array2d[[0,1], 0:2] => ', array4.tolist())\n",
        "\n",
        "array5 = array2d[[0,1]]\n",
        "print('array2d[[0,1]] => ', array5.tolist())"
      ],
      "metadata": {
        "colab": {
          "base_uri": "https://localhost:8080/"
        },
        "id": "o4Rln_BU7dJ1",
        "outputId": "4f0dfc09-163b-4a52-bd54-c39b24067ada"
      },
      "execution_count": 23,
      "outputs": [
        {
          "output_type": "stream",
          "name": "stdout",
          "text": [
            "array2d[[0,1], 2] =>  [3, 6]\n",
            "array2d[[0,1], 0:2] =>  [[1, 2], [4, 5]]\n",
            "array2d[[0,1]] =>  [[1, 2, 3], [4, 5, 6]]\n"
          ]
        }
      ]
    },
    {
      "cell_type": "markdown",
      "source": [
        "####불린 인덱싱\n",
        "\n",
        "*   조건 필터링과 검색을 동시에 할 수 있기 때문에 매우 자주 사용됨\n",
        "*   ndarray의 인덱스를 지정하는 [ ] 내에 조건문을 그대로 기재하면 됨"
      ],
      "metadata": {
        "id": "uudpbuxy8WPn"
      }
    },
    {
      "cell_type": "code",
      "source": [
        "array1d = np.arange(start=1, stop=10)\n",
        "# [ ] 안에 array1d > 5 Boolean Indexing을 적용\n",
        "array3 = array1d[array1d > 5]\n",
        "print('array1d > 5 불린 인덱싱 결과 값 :', array3)"
      ],
      "metadata": {
        "colab": {
          "base_uri": "https://localhost:8080/"
        },
        "id": "2fIyxpP78iEL",
        "outputId": "7eedcffd-4967-47f7-a0c8-67501c69106e"
      },
      "execution_count": 24,
      "outputs": [
        {
          "output_type": "stream",
          "name": "stdout",
          "text": [
            "array1d > 5 불린 인덱싱 결과 값 : [6 7 8 9]\n"
          ]
        }
      ]
    },
    {
      "cell_type": "markdown",
      "source": [
        "\n",
        "\n",
        "*   조건에 맞는 데이터가 있는 위치는 True 값이, 그렇지 않은 경우는 False 값이 반환됨\n",
        "\n"
      ],
      "metadata": {
        "id": "2fjBhOdp9eh-"
      }
    },
    {
      "cell_type": "code",
      "source": [
        "array1d > 5"
      ],
      "metadata": {
        "colab": {
          "base_uri": "https://localhost:8080/"
        },
        "id": "NyNzis609bUZ",
        "outputId": "847d6d36-579e-4f85-df69-a583dafede45"
      },
      "execution_count": 25,
      "outputs": [
        {
          "output_type": "execute_result",
          "data": {
            "text/plain": [
              "array([False, False, False, False, False,  True,  True,  True,  True])"
            ]
          },
          "metadata": {},
          "execution_count": 25
        }
      ]
    },
    {
      "cell_type": "code",
      "source": [
        "boolean_indexes = np.array([False, False, False, False, False, True, True, True, True])\n",
        "array3 = array1d[boolean_indexes]\n",
        "print('불린 인덱스로 필터링 결과 :', array3)"
      ],
      "metadata": {
        "colab": {
          "base_uri": "https://localhost:8080/"
        },
        "id": "xnVzDokB9t0n",
        "outputId": "a03c735f-5823-45e8-b0e8-e084adc2c0b0"
      },
      "execution_count": 26,
      "outputs": [
        {
          "output_type": "stream",
          "name": "stdout",
          "text": [
            "불린 인덱스로 필터링 결과 : [6 7 8 9]\n"
          ]
        }
      ]
    },
    {
      "cell_type": "code",
      "source": [
        "indexes = np.array([5,6,7,8])\n",
        "array4 = array1d[indexes]\n",
        "print('일반 인덱스로 필터링 결과 :', array4)"
      ],
      "metadata": {
        "colab": {
          "base_uri": "https://localhost:8080/"
        },
        "id": "GCqLY52Y-vGE",
        "outputId": "d29a5be2-d2cf-4edf-8c00-65751a1ffb1e"
      },
      "execution_count": 27,
      "outputs": [
        {
          "output_type": "stream",
          "name": "stdout",
          "text": [
            "일반 인덱스로 필터링 결과 : [6 7 8 9]\n"
          ]
        }
      ]
    },
    {
      "cell_type": "markdown",
      "source": [
        "\n",
        "* 불린 인덱스 동작 단계\n",
        "> 1.   ndarray의 필터링 조건을 [ ] 안에 기재\n",
        " 2.   False 값은 무시하고 True 값에 해당하는 인덱스 값만 저장\n",
        " 3.   저장된 인덱스 데이터 세트로 ndarray 조회\n",
        "\n"
      ],
      "metadata": {
        "id": "nJrCmIQ1-93m"
      }
    },
    {
      "cell_type": "markdown",
      "source": [
        "---\n",
        "###행렬의 정렬 - sort()와 argsort()\n",
        "####행렬 정렬\n",
        "\n",
        "\n",
        "*   np.sort()는 원 행렬은 그대로 유지한 채 원 행렬의 정렬된 행렬을 반환\n",
        "*   ndarray.sort()는 원 행렬 자체를 정렬한 형태로 반환, 반환 값은 None\n",
        "\n",
        "\n"
      ],
      "metadata": {
        "id": "Ybw-n45q_hYz"
      }
    },
    {
      "cell_type": "code",
      "source": [
        "org_array = np.array([3,1,9,5])\n",
        "print('원본 행렬:', org_array)\n",
        "# np.sort()로 정렬\n",
        "sort_array1 = np.sort(org_array)\n",
        "print('np.sort() 호출 후 반환된 정렬 행렬:', sort_array1)\n",
        "print('np.sort() 호출 후 원본 행렬:', org_array)\n",
        "#ndarray.sort()로 정렬\n",
        "sort_array2 = org_array.sort()\n",
        "print('org_array.sort() 호출 후 반환된 정렬 행렬:', sort_array2)\n",
        "print('org_array.sort() 호출 후 원본 행렬:', org_array)"
      ],
      "metadata": {
        "colab": {
          "base_uri": "https://localhost:8080/"
        },
        "id": "GmrKytqZAXHH",
        "outputId": "5e4c8940-6b2d-4031-826f-8fbc2ca94ba8"
      },
      "execution_count": 28,
      "outputs": [
        {
          "output_type": "stream",
          "name": "stdout",
          "text": [
            "원본 행렬: [3 1 9 5]\n",
            "np.sort() 호출 후 반환된 정렬 행렬: [1 3 5 9]\n",
            "np.sort() 호출 후 원본 행렬: [3 1 9 5]\n",
            "org_array.sort() 호출 후 반환된 정렬 행렬: None\n",
            "org_array.sort() 호출 후 원본 행렬: [1 3 5 9]\n"
          ]
        }
      ]
    },
    {
      "cell_type": "markdown",
      "source": [
        "\n",
        "\n",
        "*   기본적으로 오름차순으로 행렬 내 원소를 정렬\n",
        "*   내림차순으로 정렬하기 위해서 [ ::-1 ]을 적용\n",
        "\n"
      ],
      "metadata": {
        "id": "ZBCq0P4GNXAo"
      }
    },
    {
      "cell_type": "code",
      "source": [
        "sort_array1_desc = np.sort(org_array)[::-1]\n",
        "print('내림차순으로 정렬:', sort_array1_desc)"
      ],
      "metadata": {
        "colab": {
          "base_uri": "https://localhost:8080/"
        },
        "id": "TmGe3r3qNgo8",
        "outputId": "c0fa9368-57cd-4429-cc76-55a29ee7aa13"
      },
      "execution_count": 29,
      "outputs": [
        {
          "output_type": "stream",
          "name": "stdout",
          "text": [
            "내림차순으로 정렬: [9 5 3 1]\n"
          ]
        }
      ]
    },
    {
      "cell_type": "markdown",
      "source": [
        "\n",
        "\n",
        "*   행렬이 2차원 이상일 경우 axis 축 값 설정을 통해 로우/칼럼 방향으로 정렬 수행 가능\n",
        "\n",
        "\n"
      ],
      "metadata": {
        "id": "Tf14uFNjNfuV"
      }
    },
    {
      "cell_type": "code",
      "source": [
        "array2d = np.array([[8,12],\n",
        "                    [7,1]])\n",
        "\n",
        "sort_array2d_axis0 = np.sort(array2d, axis=0)\n",
        "print('로우 방향으로 정렬:\\n', sort_array2d_axis0)\n",
        "\n",
        "sort_array2d_axis1 = np.sort(array2d, axis=1)\n",
        "print('칼럼 방향으로 정렬:\\n', sort_array2d_axis1)"
      ],
      "metadata": {
        "colab": {
          "base_uri": "https://localhost:8080/"
        },
        "id": "2Ij5A8hUOBkd",
        "outputId": "b53eef22-517f-49cf-bd34-9a0b13213ff2"
      },
      "execution_count": 30,
      "outputs": [
        {
          "output_type": "stream",
          "name": "stdout",
          "text": [
            "로우 방향으로 정렬:\n",
            " [[ 7  1]\n",
            " [ 8 12]]\n",
            "칼럼 방향으로 정렬:\n",
            " [[ 8 12]\n",
            " [ 1  7]]\n"
          ]
        }
      ]
    },
    {
      "cell_type": "markdown",
      "source": [
        "####정렬된 행렬의 인덱스를 반환하기\n",
        "\n",
        "\n",
        "*   원본 행렬이 정렬되었을 때 기존 원본 행렬의 원소에 대한 인덱스를 필요로 할때 np.argsort() 사용\n",
        "*   nd.argsort()는 정렬 행렬의 원본 행렬 인덱스를 ndarray형으로 반환\n"
      ],
      "metadata": {
        "id": "uHrHhNN0OYRN"
      }
    },
    {
      "cell_type": "code",
      "source": [
        "org_array = np.array([3,1,9,5])\n",
        "sort_indices = np.argsort(org_array)\n",
        "print(type(sort_indices))\n",
        "print('행렬 정렬 시 원본 행렬의 인덱스:', sort_indices)"
      ],
      "metadata": {
        "colab": {
          "base_uri": "https://localhost:8080/"
        },
        "id": "wdkm34chOrnT",
        "outputId": "f24e6d06-6023-4545-80a3-e5cde2986cd7"
      },
      "execution_count": 31,
      "outputs": [
        {
          "output_type": "stream",
          "name": "stdout",
          "text": [
            "<class 'numpy.ndarray'>\n",
            "행렬 정렬 시 원본 행렬의 인덱스: [1 0 3 2]\n"
          ]
        }
      ]
    },
    {
      "cell_type": "markdown",
      "source": [
        "\n",
        "\n",
        "*   기본 오름차순, 내림차순 정렬 시 동일하게 [::-1]을 적용\n",
        "\n",
        "\n",
        "\n",
        "\n"
      ],
      "metadata": {
        "id": "GZ7_92q_O52g"
      }
    },
    {
      "cell_type": "code",
      "source": [
        "org_array = np.array([3,1,9,5])\n",
        "sort_indices_desc = np.argsort(org_array)[::-1]\n",
        "print('행렬 내림차순 정렬 시 원본 행렬의 인덱스:', sort_indices_desc)"
      ],
      "metadata": {
        "colab": {
          "base_uri": "https://localhost:8080/"
        },
        "id": "lNB4Z5YTPBvu",
        "outputId": "dd9d6492-7fb6-45e5-b61d-9661d5ba850d"
      },
      "execution_count": 32,
      "outputs": [
        {
          "output_type": "stream",
          "name": "stdout",
          "text": [
            "행렬 내림차순 정렬 시 원본 행렬의 인덱스: [2 3 0 1]\n"
          ]
        }
      ]
    },
    {
      "cell_type": "markdown",
      "source": [
        "* argsort()는 넘파이에서 매우 활용도가 높음\n",
        "* 실제 값과 그 값이 뜻하는 메타 데이터를 별도의 ndarray로 각각 가져야만 함\n",
        "> 예를 들어, 학생별 시험 성적을 데이터로 표현하기 위해서는 학생의 이름과 성적을 각각 ndarray로 가져야 함"
      ],
      "metadata": {
        "id": "cH0-b6oqPNGZ"
      }
    },
    {
      "cell_type": "code",
      "source": [
        "import numpy as np\n",
        "\n",
        "name_array = np.array(['John', 'Mike', 'Sarah', 'Kate', 'Samuel'])\n",
        "score_array = np.array([78,95,84,98,88])\n",
        "\n",
        "sort_indices_asc = np.argsort(score_array)\n",
        "print('성적 오름차순 정렬 시 score_array의 인덱스:', sort_indices_asc)\n",
        "print('성적 오름차순으로 name_array의 이름 출력:', name_array[sort_indices_asc])"
      ],
      "metadata": {
        "colab": {
          "base_uri": "https://localhost:8080/"
        },
        "id": "goi7aqcWPeaE",
        "outputId": "8d4cada0-b81c-4d9f-ac4b-0a905c5fdbf1"
      },
      "execution_count": 33,
      "outputs": [
        {
          "output_type": "stream",
          "name": "stdout",
          "text": [
            "성적 오름차순 정렬 시 score_array의 인덱스: [0 2 4 1 3]\n",
            "성적 오름차순으로 name_array의 이름 출력: ['John' 'Sarah' 'Samuel' 'Mike' 'Kate']\n"
          ]
        }
      ]
    },
    {
      "cell_type": "markdown",
      "source": [
        "---\n",
        "###선형대수 연산 - 행렬 내적과 전치 행렬 구하기\n",
        "####행렬 내적(행렬 곱)\n",
        "\n",
        "\n",
        "*   두 행렬 A와 B의 내적은 np.dot()을 이용해 계산 가능\n",
        "*   왼쪽 행렬의 로우와 오른쪽 행렬의 열의 원소들을 순차적으로 곱한 뒤 그 결과를 모두 더한 값\n",
        "*   왼쪽 행렬의 열 개수와 오른쪽 행렬의 행 개수가 동일해야 내적 연산이 가능\n"
      ],
      "metadata": {
        "id": "myGv014jQGqm"
      }
    },
    {
      "cell_type": "code",
      "source": [
        "A = np.array([[1,2,3],\n",
        "              [4,5,6]])\n",
        "B = np.array([[7,8],\n",
        "              [9,10],\n",
        "              [11,12]])\n",
        "dot_product = np.dot(A,B)\n",
        "print('행렬 내적 결과:\\n', dot_product)"
      ],
      "metadata": {
        "colab": {
          "base_uri": "https://localhost:8080/"
        },
        "id": "m0sWxYeJQeL9",
        "outputId": "b0b5cfb5-eaca-4540-c1d2-99a0afdf27f2"
      },
      "execution_count": 34,
      "outputs": [
        {
          "output_type": "stream",
          "name": "stdout",
          "text": [
            "행렬 내적 결과:\n",
            " [[ 58  64]\n",
            " [139 154]]\n"
          ]
        }
      ]
    },
    {
      "cell_type": "markdown",
      "source": [
        "####전치 행렬\n",
        "\n",
        "\n",
        "*   원 행렬에서 행과 열 위치를 교환한 원소로 구성한 행렬\n",
        "*   A의 전치 행렬은 A^T와 같이 표기함\n",
        "*   transpose()를 이용해 전치 행렬을 쉽게 구할 수 있음"
      ],
      "metadata": {
        "id": "nmOgLu5-Qu3W"
      }
    },
    {
      "cell_type": "code",
      "source": [
        "A = np.array([[1,2],\n",
        "              [3,4]])\n",
        "transpose_mat = np.transpose(A)\n",
        "print('A의 전치 행렬:\\n', transpose_mat)"
      ],
      "metadata": {
        "colab": {
          "base_uri": "https://localhost:8080/"
        },
        "id": "gF41sp9pQ419",
        "outputId": "f4b8facf-94f1-4355-f915-3acf857852a8"
      },
      "execution_count": 36,
      "outputs": [
        {
          "output_type": "stream",
          "name": "stdout",
          "text": [
            "A의 전치 행렬:\n",
            " [[1 3]\n",
            " [2 4]]\n"
          ]
        }
      ]
    }
  ]
}