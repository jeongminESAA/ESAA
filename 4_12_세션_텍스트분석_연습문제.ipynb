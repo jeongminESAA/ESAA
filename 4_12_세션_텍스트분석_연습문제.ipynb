{
  "nbformat": 4,
  "nbformat_minor": 0,
  "metadata": {
    "colab": {
      "provenance": [],
      "include_colab_link": true
    },
    "kernelspec": {
      "name": "python3",
      "display_name": "Python 3"
    },
    "language_info": {
      "name": "python"
    }
  },
  "cells": [
    {
      "cell_type": "markdown",
      "metadata": {
        "id": "view-in-github",
        "colab_type": "text"
      },
      "source": [
        "<a href=\"https://colab.research.google.com/github/ujeongmin/ESAA/blob/main/4_12_%EC%84%B8%EC%85%98_%ED%85%8D%EC%8A%A4%ED%8A%B8%EB%B6%84%EC%84%9D_%EC%97%B0%EC%8A%B5%EB%AC%B8%EC%A0%9C.ipynb\" target=\"_parent\"><img src=\"https://colab.research.google.com/assets/colab-badge.svg\" alt=\"Open In Colab\"/></a>"
      ]
    },
    {
      "cell_type": "markdown",
      "source": [
        "# 1. 아래의 데이터를 이용하여 공부한 내용을 바탕으로 문제 2개를 만들고 답하세요."
      ],
      "metadata": {
        "id": "MbDTRcUQrUS3"
      }
    },
    {
      "cell_type": "code",
      "source": [
        "import nltk\n",
        "nltk.download(\"book\", quiet=True)\n",
        "from nltk.book import *"
      ],
      "metadata": {
        "id": "PNjdc83Bqdpd",
        "colab": {
          "base_uri": "https://localhost:8080/"
        },
        "outputId": "1ad3c507-86d8-49cd-b365-b30e833cef11"
      },
      "execution_count": 1,
      "outputs": [
        {
          "output_type": "stream",
          "name": "stdout",
          "text": [
            "*** Introductory Examples for the NLTK Book ***\n",
            "Loading text1, ..., text9 and sent1, ..., sent9\n",
            "Type the name of the text or sentence to view it.\n",
            "Type: 'texts()' or 'sents()' to list the materials.\n",
            "text1: Moby Dick by Herman Melville 1851\n",
            "text2: Sense and Sensibility by Jane Austen 1811\n",
            "text3: The Book of Genesis\n",
            "text4: Inaugural Address Corpus\n",
            "text5: Chat Corpus\n",
            "text6: Monty Python and the Holy Grail\n",
            "text7: Wall Street Journal\n",
            "text8: Personals Corpus\n",
            "text9: The Man Who Was Thursday by G . K . Chesterton 1908\n"
          ]
        }
      ]
    },
    {
      "cell_type": "code",
      "source": [
        "# 파일 목록 확인\n",
        "nltk.corpus.gutenberg.fileids()"
      ],
      "metadata": {
        "colab": {
          "base_uri": "https://localhost:8080/"
        },
        "id": "K9xoXfKzrbKv",
        "outputId": "0729821b-112d-42b9-f30d-4604cd4d035d"
      },
      "execution_count": 2,
      "outputs": [
        {
          "output_type": "execute_result",
          "data": {
            "text/plain": [
              "['austen-emma.txt',\n",
              " 'austen-persuasion.txt',\n",
              " 'austen-sense.txt',\n",
              " 'bible-kjv.txt',\n",
              " 'blake-poems.txt',\n",
              " 'bryant-stories.txt',\n",
              " 'burgess-busterbrown.txt',\n",
              " 'carroll-alice.txt',\n",
              " 'chesterton-ball.txt',\n",
              " 'chesterton-brown.txt',\n",
              " 'chesterton-thursday.txt',\n",
              " 'edgeworth-parents.txt',\n",
              " 'melville-moby_dick.txt',\n",
              " 'milton-paradise.txt',\n",
              " 'shakespeare-caesar.txt',\n",
              " 'shakespeare-hamlet.txt',\n",
              " 'shakespeare-macbeth.txt',\n",
              " 'whitman-leaves.txt']"
            ]
          },
          "metadata": {},
          "execution_count": 2
        }
      ]
    },
    {
      "cell_type": "code",
      "source": [
        "hamlet = nltk.corpus.gutenberg.raw('shakespeare-hamlet.txt')\n",
        "print(hamlet[:10000])"
      ],
      "metadata": {
        "colab": {
          "base_uri": "https://localhost:8080/"
        },
        "id": "jo9kzrrqqaNc",
        "outputId": "4aba29a8-55c0-4b30-bfda-e7d88d7fb219"
      },
      "execution_count": 3,
      "outputs": [
        {
          "output_type": "stream",
          "name": "stdout",
          "text": [
            "[The Tragedie of Hamlet by William Shakespeare 1599]\n",
            "\n",
            "\n",
            "Actus Primus. Scoena Prima.\n",
            "\n",
            "Enter Barnardo and Francisco two Centinels.\n",
            "\n",
            "  Barnardo. Who's there?\n",
            "  Fran. Nay answer me: Stand & vnfold\n",
            "your selfe\n",
            "\n",
            "   Bar. Long liue the King\n",
            "\n",
            "   Fran. Barnardo?\n",
            "  Bar. He\n",
            "\n",
            "   Fran. You come most carefully vpon your houre\n",
            "\n",
            "   Bar. 'Tis now strook twelue, get thee to bed Francisco\n",
            "\n",
            "   Fran. For this releefe much thankes: 'Tis bitter cold,\n",
            "And I am sicke at heart\n",
            "\n",
            "   Barn. Haue you had quiet Guard?\n",
            "  Fran. Not a Mouse stirring\n",
            "\n",
            "   Barn. Well, goodnight. If you do meet Horatio and\n",
            "Marcellus, the Riuals of my Watch, bid them make hast.\n",
            "Enter Horatio and Marcellus.\n",
            "\n",
            "  Fran. I thinke I heare them. Stand: who's there?\n",
            "  Hor. Friends to this ground\n",
            "\n",
            "   Mar. And Leige-men to the Dane\n",
            "\n",
            "   Fran. Giue you good night\n",
            "\n",
            "   Mar. O farwel honest Soldier, who hath relieu'd you?\n",
            "  Fra. Barnardo ha's my place: giue you goodnight.\n",
            "\n",
            "Exit Fran.\n",
            "\n",
            "  Mar. Holla Barnardo\n",
            "\n",
            "   Bar. Say, what is Horatio there?\n",
            "  Hor. A peece of him\n",
            "\n",
            "   Bar. Welcome Horatio, welcome good Marcellus\n",
            "\n",
            "   Mar. What, ha's this thing appear'd againe to night\n",
            "\n",
            "   Bar. I haue seene nothing\n",
            "\n",
            "   Mar. Horatio saies, 'tis but our Fantasie,\n",
            "And will not let beleefe take hold of him\n",
            "Touching this dreaded sight, twice seene of vs,\n",
            "Therefore I haue intreated him along\n",
            "With vs, to watch the minutes of this Night,\n",
            "That if againe this Apparition come,\n",
            "He may approue our eyes, and speake to it\n",
            "\n",
            "   Hor. Tush, tush, 'twill not appeare\n",
            "\n",
            "   Bar. Sit downe a-while,\n",
            "And let vs once againe assaile your eares,\n",
            "That are so fortified against our Story,\n",
            "What we two Nights haue seene\n",
            "\n",
            "   Hor. Well, sit we downe,\n",
            "And let vs heare Barnardo speake of this\n",
            "\n",
            "   Barn. Last night of all,\n",
            "When yond same Starre that's Westward from the Pole\n",
            "Had made his course t' illume that part of Heauen\n",
            "Where now it burnes, Marcellus and my selfe,\n",
            "The Bell then beating one\n",
            "\n",
            "   Mar. Peace, breake thee of:\n",
            "Enter the Ghost.\n",
            "\n",
            "Looke where it comes againe\n",
            "\n",
            "   Barn. In the same figure, like the King that's dead\n",
            "\n",
            "   Mar. Thou art a Scholler; speake to it Horatio\n",
            "\n",
            "   Barn. Lookes it not like the King? Marke it Horatio\n",
            "\n",
            "   Hora. Most like: It harrowes me with fear & wonder\n",
            "  Barn. It would be spoke too\n",
            "\n",
            "   Mar. Question it Horatio\n",
            "\n",
            "   Hor. What art thou that vsurp'st this time of night,\n",
            "Together with that Faire and Warlike forme\n",
            "In which the Maiesty of buried Denmarke\n",
            "Did sometimes march: By Heauen I charge thee speake\n",
            "\n",
            "   Mar. It is offended\n",
            "\n",
            "   Barn. See, it stalkes away\n",
            "\n",
            "   Hor. Stay: speake; speake: I Charge thee, speake.\n",
            "\n",
            "Exit the Ghost.\n",
            "\n",
            "  Mar. 'Tis gone, and will not answer\n",
            "\n",
            "   Barn. How now Horatio? You tremble & look pale:\n",
            "Is not this something more then Fantasie?\n",
            "What thinke you on't?\n",
            "  Hor. Before my God, I might not this beleeue\n",
            "Without the sensible and true auouch\n",
            "Of mine owne eyes\n",
            "\n",
            "   Mar. Is it not like the King?\n",
            "  Hor. As thou art to thy selfe,\n",
            "Such was the very Armour he had on,\n",
            "When th' Ambitious Norwey combatted:\n",
            "So frown'd he once, when in an angry parle\n",
            "He smot the sledded Pollax on the Ice.\n",
            "'Tis strange\n",
            "\n",
            "   Mar. Thus twice before, and iust at this dead houre,\n",
            "With Martiall stalke, hath he gone by our Watch\n",
            "\n",
            "   Hor. In what particular thought to work, I know not:\n",
            "But in the grosse and scope of my Opinion,\n",
            "This boades some strange erruption to our State\n",
            "\n",
            "   Mar. Good now sit downe, & tell me he that knowes\n",
            "Why this same strict and most obseruant Watch,\n",
            "So nightly toyles the subiect of the Land,\n",
            "And why such dayly Cast of Brazon Cannon\n",
            "And Forraigne Mart for Implements of warre:\n",
            "Why such impresse of Ship-wrights, whose sore Taske\n",
            "Do's not diuide the Sunday from the weeke,\n",
            "What might be toward, that this sweaty hast\n",
            "Doth make the Night ioynt-Labourer with the day:\n",
            "Who is't that can informe me?\n",
            "  Hor. That can I,\n",
            "At least the whisper goes so: Our last King,\n",
            "Whose Image euen but now appear'd to vs,\n",
            "Was (as you know) by Fortinbras of Norway,\n",
            "(Thereto prick'd on by a most emulate Pride)\n",
            "Dar'd to the Combate. In which, our Valiant Hamlet,\n",
            "(For so this side of our knowne world esteem'd him)\n",
            "Did slay this Fortinbras: who by a Seal'd Compact,\n",
            "Well ratified by Law, and Heraldrie,\n",
            "Did forfeite (with his life) all those his Lands\n",
            "Which he stood seiz'd on, to the Conqueror:\n",
            "Against the which, a Moity competent\n",
            "Was gaged by our King: which had return'd\n",
            "To the Inheritance of Fortinbras,\n",
            "Had he bin Vanquisher, as by the same Cou'nant\n",
            "And carriage of the Article designe,\n",
            "His fell to Hamlet. Now sir, young Fortinbras,\n",
            "Of vnimproued Mettle, hot and full,\n",
            "Hath in the skirts of Norway, heere and there,\n",
            "Shark'd vp a List of Landlesse Resolutes,\n",
            "For Foode and Diet, to some Enterprize\n",
            "That hath a stomacke in't: which is no other\n",
            "(And it doth well appeare vnto our State)\n",
            "But to recouer of vs by strong hand\n",
            "And termes Compulsatiue, those foresaid Lands\n",
            "So by his Father lost: and this (I take it)\n",
            "Is the maine Motiue of our Preparations,\n",
            "The Sourse of this our Watch, and the cheefe head\n",
            "Of this post-hast, and Romage in the Land.\n",
            "Enter Ghost againe.\n",
            "\n",
            "But soft, behold: Loe, where it comes againe:\n",
            "Ile crosse it, though it blast me. Stay Illusion:\n",
            "If thou hast any sound, or vse of Voyce,\n",
            "Speake to me. If there be any good thing to be done,\n",
            "That may to thee do ease, and grace to me; speak to me.\n",
            "If thou art priuy to thy Countries Fate\n",
            "(Which happily foreknowing may auoyd) Oh speake.\n",
            "Or, if thou hast vp-hoorded in thy life\n",
            "Extorted Treasure in the wombe of Earth,\n",
            "(For which, they say, you Spirits oft walke in death)\n",
            "Speake of it. Stay, and speake. Stop it Marcellus\n",
            "\n",
            "   Mar. Shall I strike at it with my Partizan?\n",
            "  Hor. Do, if it will not stand\n",
            "\n",
            "   Barn. 'Tis heere\n",
            "\n",
            "   Hor. 'Tis heere\n",
            "\n",
            "   Mar. 'Tis gone.\n",
            "\n",
            "Exit Ghost.\n",
            "\n",
            "We do it wrong, being so Maiesticall\n",
            "To offer it the shew of Violence,\n",
            "For it is as the Ayre, invulnerable,\n",
            "And our vaine blowes, malicious Mockery\n",
            "\n",
            "   Barn. It was about to speake, when the Cocke crew\n",
            "\n",
            "   Hor. And then it started, like a guilty thing\n",
            "Vpon a fearfull Summons. I haue heard,\n",
            "The Cocke that is the Trumpet to the day,\n",
            "Doth with his lofty and shrill-sounding Throate\n",
            "Awake the God of Day: and at his warning,\n",
            "Whether in Sea, or Fire, in Earth, or Ayre,\n",
            "Th' extrauagant, and erring Spirit, hyes\n",
            "To his Confine. And of the truth heerein,\n",
            "This present Obiect made probation\n",
            "\n",
            "   Mar. It faded on the crowing of the Cocke.\n",
            "Some sayes, that euer 'gainst that Season comes\n",
            "Wherein our Sauiours Birch is celebrated,\n",
            "The Bird of Dawning singeth all night long:\n",
            "And then (they say) no Spirit can walke abroad,\n",
            "The nights are wholsome, then no Planets strike,\n",
            "No Faiery talkes, nor Witch hath power to Charme:\n",
            "So hallow'd, and so gracious is the time\n",
            "\n",
            "   Hor. So haue I heard, and do in part beleeue it.\n",
            "But looke, the Morne in Russet mantle clad,\n",
            "Walkes o're the dew of yon high Easterne Hill,\n",
            "Breake we our Watch vp, and by my aduice\n",
            "Let vs impart what we haue seene to night\n",
            "Vnto yong Hamlet. For vpon my life,\n",
            "This Spirit dumbe to vs, will speake to him:\n",
            "Do you consent we shall acquaint him with it,\n",
            "As needfull in our Loues, fitting our Duty?\n",
            "  Mar. Let do't I pray, and I this morning know\n",
            "Where we shall finde him most conueniently.\n",
            "\n",
            "Exeunt.\n",
            "\n",
            "Scena Secunda.\n",
            "\n",
            "Enter Claudius King of Denmarke, Gertrude the Queene, Hamlet,\n",
            "Polonius,\n",
            "Laertes, and his Sister Ophelia, Lords Attendant.\n",
            "\n",
            "  King. Though yet of Hamlet our deere Brothers death\n",
            "The memory be greene: and that it vs befitted\n",
            "To beare our hearts in greefe, and our whole Kingdome\n",
            "To be contracted in one brow of woe:\n",
            "Yet so farre hath Discretion fought with Nature,\n",
            "That we with wisest sorrow thinke on him,\n",
            "Together with remembrance of our selues.\n",
            "Therefore our sometimes Sister, now our Queene,\n",
            "Th' imperiall Ioyntresse of this warlike State,\n",
            "Haue we, as 'twere, with a defeated ioy,\n",
            "With one Auspicious, and one Dropping eye,\n",
            "With mirth in Funerall, and with Dirge in Marriage,\n",
            "In equall Scale weighing Delight and Dole\n",
            "Taken to Wife; nor haue we heerein barr'd\n",
            "Your better Wisedomes, which haue freely gone\n",
            "With this affaire along, for all our Thankes.\n",
            "Now followes, that you know young Fortinbras,\n",
            "Holding a weake supposall of our worth;\n",
            "Or thinking by our late deere Brothers death,\n",
            "Our State to be disioynt, and out of Frame,\n",
            "Colleagued with the dreame of his Aduantage;\n",
            "He hath not fayl'd to pester vs with Message,\n",
            "Importing the surrender of those Lands\n",
            "Lost by his Father: with all Bonds of Law\n",
            "To our most valiant Brother. So much for him.\n",
            "Enter Voltemand and Cornelius.\n",
            "\n",
            "Now for our selfe, and for this time of meeting\n",
            "Thus much the businesse is. We haue heere writ\n",
            "To Norway, Vncle of young Fortinbras,\n",
            "Who Impotent and Bedrid, scarsely heares\n",
            "Of this his Nephewes purpose, to suppresse\n",
            "His further gate heerein. In that the Leuies,\n",
            "The Lists, and full proportions are all made\n",
            "Out of his subiect: and we heere dispatch\n",
            "You good Cornelius, and you Voltemand,\n",
            "For bearing of this greeting to old Norway,\n",
            "Giuing to you no further personall power\n",
            "To businesse with the King, more then the scope\n",
            "Of these dilated Articles allow:\n",
            "Farewell, and let your hast commend your duty\n",
            "\n",
            "   Volt. In that, and all things, will we shew our duty\n",
            "\n",
            "   King. We doubt it nothing, heartily farewell.\n",
            "\n",
            "Exit Voltemand and Cornelius.\n",
            "\n",
            "And now Laertes, what's the newes with you?\n",
            "You told vs of some suite. What is't Laertes?\n",
            "You cannot speake of Reason to the Dane,\n",
            "And loose your voyce. What would'st thou beg Laertes,\n",
            "That shall not be my Offer, not thy Asking?\n",
            "The Head is not more Natiue to the Heart,\n",
            "The Hand more instrumentall to the Mouth,\n",
            "Then is the Throne of Denmarke to thy Father.\n",
            "What would'st thou haue Laertes?\n",
            "  Laer. Dread my Lord,\n",
            "Your leaue and fauour to returne to France,\n",
            "From whence, though willingly I came to Denmarke\n",
            "To shew my duty in your Coronation,\n",
            "Yet now I must confesse, that duty done,\n",
            "My thoughts and wishes bend againe towards France,\n",
            "And bow them to your gracious leaue and pardon\n",
            "\n",
            "   King. Haue you your Fathers leaue?\n",
            "What sayes Pollonius?\n",
            "  Pol. He hath my Lord:\n",
            "I do beseech you giue him leaue to go\n",
            "\n",
            "   King. Take thy\n"
          ]
        }
      ]
    },
    {
      "cell_type": "markdown",
      "source": [
        "### (1) 문제 1 : hamlet[:5000]에서 영어가 아닌 숫자/특수문자를 공란으로 변경하기"
      ],
      "metadata": {
        "id": "iNftR22-riz3"
      }
    },
    {
      "cell_type": "code",
      "source": [
        "# 문제 1 : hamlet[:5000]에서 영어가 아닌 숫자/특수문자를 공란으로 변경하기\n",
        "import re\n",
        "\n",
        "remove_hamlet = re.sub('[^a-xA-Z]', ' ', hamlet[:5000])\n",
        "remove_hamlet"
      ],
      "metadata": {
        "id": "mLLGn_Rxrkxk",
        "colab": {
          "base_uri": "https://localhost:8080/",
          "height": 146
        },
        "outputId": "b9442ede-4f1c-46ce-8820-b5641ebb6123"
      },
      "execution_count": 17,
      "outputs": [
        {
          "output_type": "execute_result",
          "data": {
            "text/plain": [
              "' The Tragedie of Hamlet b  William Shakespeare         Actus Primus  Scoena Prima   Enter Barnardo and Francisco two Centinels     Barnardo  Who s there    Fran  Na  answer me  Stand   vnfold  our selfe     Bar  Long liue the King     Fran  Barnardo    Bar  He     Fran  You come most carefull  vpon  our houre     Bar   Tis now strook twelue  get thee to bed Francisco     Fran  For this releefe much thankes   Tis bitter cold  And I am sicke at heart     Barn  Haue  ou had quiet Guard    Fran  Not a Mouse stirring     Barn  Well  goodnight  If  ou do meet Horatio and Marcellus  the Riuals of m  Watch  bid them make hast  Enter Horatio and Marcellus     Fran  I thinke I heare them  Stand  who s there    Hor  Friends to this ground     Mar  And Leige men to the Dane     Fran  Giue  ou good night     Mar  O farwel honest Soldier  who hath relieu d  ou    Fra  Barnardo ha s m  place  giue  ou goodnight   Exit Fran     Mar  Holla Barnardo     Bar  Sa   what is Horatio there    Hor  A peece of him     Bar  Welcome Horatio  welcome good Marcellus     Mar  What  ha s this thing appear d againe to night     Bar  I haue seene nothing     Mar  Horatio saies   tis but our Fantasie  And will not let beleefe take hold of him Touching this dreaded sight  twice seene of vs  Therefore I haue intreated him along With vs  to watch the minutes of this Night  That if againe this Apparition come  He ma  approue our e es  and speake to it     Hor  Tush  tush   twill not appeare     Bar  Sit downe a while  And let vs once againe assaile  our eares  That are so fortified against our Stor   What we two Nights haue seene     Hor  Well  sit we downe  And let vs heare Barnardo speake of this     Barn  Last night of all  When  ond same Starre that s Westward from the Pole Had made his course t  illume that part of Heauen Where now it burnes  Marcellus and m  selfe  The Bell then beating one     Mar  Peace  breake thee of  Enter the Ghost   Looke where it comes againe     Barn  In the same figure  like the King that s dead     Mar  Thou art a Scholler  speake to it Horatio     Barn  Lookes it not like the King  Marke it Horatio     Hora  Most like  It harrowes me with fear   wonder   Barn  It would be spoke too     Mar  Question it Horatio     Hor  What art thou that vsurp st this time of night  Together with that Faire and Warlike forme In which the Maiest  of buried Denmarke Did sometimes march  B  Heauen I charge thee speake     Mar  It is offended     Barn  See  it stalkes awa      Hor  Sta   speake  speake  I Charge thee  speake   Exit the Ghost     Mar   Tis gone  and will not answer     Barn  How now Horatio  You tremble   look pale  Is not this something more then Fantasie  What thinke  ou on t    Hor  Before m  God  I might not this beleeue Without the sensible and true auouch Of mine owne e es     Mar  Is it not like the King    Hor  As thou art to th  selfe  Such was the ver  Armour he had on  When th  Ambitious Norwe  combatted  So frown d he once  when in an angr  parle He smot the sledded Pollax on the Ice   Tis strange     Mar  Thus twice before  and iust at this dead houre  With Martiall stalke  hath he gone b  our Watch     Hor  In what particular thought to work  I know not  But in the grosse and scope of m  Opinion  This boades some strange erruption to our State     Mar  Good now sit downe    tell me he that knowes Wh  this same strict and most obseruant Watch  So nightl  to les the subiect of the Land  And wh  such da l  Cast of Bra on Cannon And Forraigne Mart for Implements of warre  Wh  such impresse of Ship wrights  whose sore Taske Do s not diuide the Sunda  from the weeke  What might be toward  that this sweat  hast Doth make the Night io nt Labourer with the da   Who is t that can informe me    Hor  That can I  At least the whisper goes so  Our last King  Whose Image euen but now appear d to vs  Was  as  ou know  b  Fortinbras of Norwa    Thereto prick d on b  a most emulate Pride  Dar d to the Combate  In which  our Valiant Hamlet   For so this side of our knowne world esteem d him  Did sla  this Fortinbras  who b  a Seal d Compact  Well ratified b  Law  and Heraldrie  Did forfeite  with his life  all those his Lands Which he stood sei  d on  to the Conqueror  Against the which  a Moit  competent Was gaged b  our King  which had return d To the Inheritance of Fortinbras  Had he bin Vanquisher  as b  the same Cou nant And carriage of the Article designe  His fell to Hamlet  Now sir   oung Fortinbras  Of vnimproued Mettle  hot and full  Hath in the skirts of Norwa   heere and there  Shark d vp a List of Landlesse Resolutes  For Foode and Diet  to some Enterpri e That hath a stomacke in t  which is no other  And it doth well appeare vnto our State  But to recouer of vs b  strong hand And termes Compulsatiue  those foresaid Lands So b  his Father lost  and this  I take it  Is the maine Motiue of our Preparations  The Sourse of this our Watch  and the cheefe head Of this post hast  and Romage in the Land  Enter Ghos'"
            ],
            "application/vnd.google.colaboratory.intrinsic+json": {
              "type": "string"
            }
          },
          "metadata": {},
          "execution_count": 17
        }
      ]
    },
    {
      "cell_type": "markdown",
      "source": [
        "### (2) 문제 2 : SentimentIntensityAnalyzer를 이용해 hamlet[:5000] 감성 점수 구하기"
      ],
      "metadata": {
        "id": "F6fES2kkrmP0"
      }
    },
    {
      "cell_type": "code",
      "source": [
        "# 문제 2 : SentimentIntensityAnalyzer를 이용해 hamlet[:5000] 감성 점수 구하기\n",
        "from nltk.sentiment.vader import SentimentIntensityAnalyzer\n",
        "nltk.download('vader_lexicon')\n",
        "\n",
        "senti_analyzer = SentimentIntensityAnalyzer()\n",
        "senti_scores = senti_analyzer.polarity_scores(hamlet[:5000])\n",
        "print(senti_scores)"
      ],
      "metadata": {
        "id": "a9vmAhP1rnIi",
        "colab": {
          "base_uri": "https://localhost:8080/"
        },
        "outputId": "0bb25b90-f6f7-4358-f330-0e7f848f23c5"
      },
      "execution_count": 5,
      "outputs": [
        {
          "output_type": "stream",
          "name": "stderr",
          "text": [
            "[nltk_data] Downloading package vader_lexicon to /root/nltk_data...\n"
          ]
        },
        {
          "output_type": "stream",
          "name": "stdout",
          "text": [
            "{'neg': 0.068, 'neu': 0.836, 'pos': 0.096, 'compound': 0.9936}\n"
          ]
        }
      ]
    },
    {
      "cell_type": "markdown",
      "source": [
        "# 2. 조원들과 만든 문제와 답을 공유해보세요."
      ],
      "metadata": {
        "id": "2EvgMg6VsMz0"
      }
    },
    {
      "cell_type": "code",
      "source": [
        "### (1) 문제 1 : hamlet이 긍정 감성인지 부정 감성인지 예측하기\n",
        "\n",
        "from nltk.corpus import wordnet as wn\n",
        "\n",
        "# 간단한 NTLK PennTreebank Tag를 기반으로 WordNet기반의 품사 Tag로 변환\n",
        "def penn_to_wn(tag):\n",
        "    if tag.startswith('J'):\n",
        "        return wn.ADJ\n",
        "    elif tag.startswith('N'):\n",
        "        return wn.NOUN\n",
        "    elif tag.startswith('R'):\n",
        "        return wn.ADV\n",
        "    elif tag.startswith('V'):\n",
        "        return wn.VERB\n",
        "    return\n",
        "\n",
        "import nltk\n",
        "nltk.download('sentiwordnet')\n",
        "\n",
        "from nltk.stem import WordNetLemmatizer\n",
        "from nltk.corpus import sentiwordnet as swn\n",
        "from nltk import sent_tokenize, word_tokenize, pos_tag\n",
        "\n",
        "def swn_polarity(text):\n",
        "    # 감성 지수 초기화\n",
        "    sentiment = 0.0\n",
        "    tokens_count = 0\n",
        "\n",
        "    lemmatizer = WordNetLemmatizer()\n",
        "    raw_sentences = sent_tokenize(text)\n",
        "    # 분해된 문장별로 단어 토큰 -> 품사 태깅 후에 SentiSynset 생성 -> 감성 지수 합산\n",
        "    for raw_sentence in raw_sentences:\n",
        "        # NTLK 기반의 품사 태깅 문장 추출\n",
        "        tagged_sentence = pos_tag(word_tokenize(raw_sentence))\n",
        "        for word , tag in tagged_sentence:\n",
        "\n",
        "            # WordNet 기반 품사 태깅과 어근 추출\n",
        "            wn_tag = penn_to_wn(tag)\n",
        "            if wn_tag not in (wn.NOUN , wn.ADJ, wn.ADV):\n",
        "                continue\n",
        "            lemma = lemmatizer.lemmatize(word, pos=wn_tag)\n",
        "            if not lemma:\n",
        "                continue\n",
        "            # 어근을 추출한 단어와 WordNet 기반 품사 태깅을 입력해 Synset 객체를 생성.\n",
        "            synsets = wn.synsets(lemma , pos=wn_tag)\n",
        "            if not synsets:\n",
        "                continue\n",
        "            # sentiwordnet의 감성 단어 분석으로 감성 synset 추출\n",
        "            # 모든 단어에 대해 긍정 감성 지수는 +로 부정 감성 지수는 -로 합산해 감성 지수 계산.\n",
        "            synset = synsets[0]\n",
        "            swn_synset = swn.senti_synset(synset.name())\n",
        "            sentiment += (swn_synset.pos_score() - swn_synset.neg_score())\n",
        "            tokens_count += 1\n",
        "\n",
        "    if not tokens_count:\n",
        "        return 0\n",
        "\n",
        "    # 총 score가 0 이상일 경우 긍정(Positive) 1, 그렇지 않을 경우 부정(Negative) 0 반환\n",
        "    if sentiment >= 0 :\n",
        "        return 1\n",
        "\n",
        "    return 0\n",
        "\n",
        "swn_polarity(hamlet)"
      ],
      "metadata": {
        "id": "a_l-4BAwsPlL",
        "colab": {
          "base_uri": "https://localhost:8080/"
        },
        "outputId": "571d080d-8700-42f7-95a0-41e32b611f5e"
      },
      "execution_count": 18,
      "outputs": [
        {
          "output_type": "stream",
          "name": "stderr",
          "text": [
            "[nltk_data] Downloading package sentiwordnet to /root/nltk_data...\n",
            "[nltk_data]   Unzipping corpora/sentiwordnet.zip.\n"
          ]
        },
        {
          "output_type": "execute_result",
          "data": {
            "text/plain": [
              "0"
            ]
          },
          "metadata": {},
          "execution_count": 18
        }
      ]
    },
    {
      "cell_type": "code",
      "source": [
        "### (2) 문제 2: hamlet에서 가장 긍정적인 단어, 가장 부정적인 단어, 가장 객관적인 단어\n",
        "\n",
        "def most_pos_neg_obj_word(text):\n",
        "    positive_words = []\n",
        "    negative_words = []\n",
        "    objective_words = []\n",
        "\n",
        "    lemmatizer = WordNetLemmatizer()\n",
        "    raw_sentences = sent_tokenize(text)\n",
        "    for raw_sentence in raw_sentences:\n",
        "        tagged_sentence = pos_tag(word_tokenize(raw_sentence))\n",
        "        for word , tag in tagged_sentence:\n",
        "            wn_tag = penn_to_wn(tag)\n",
        "            if wn_tag not in (wn.NOUN, wn.ADJ, wn.ADV):\n",
        "                continue\n",
        "            lemma = lemmatizer.lemmatize(word, pos=wn_tag)\n",
        "            if not lemma:\n",
        "                continue\n",
        "            synsets = wn.synsets(lemma, pos=wn_tag)\n",
        "            if not synsets:\n",
        "                continue\n",
        "            synset = synsets[0]\n",
        "            swn_synset = swn.senti_synset(synset.name())\n",
        "            if swn_synset.pos_score() > swn_synset.neg_score():\n",
        "                positive_words.append((lemma, swn_synset.pos_score()))\n",
        "            elif swn_synset.pos_score() < swn_synset.neg_score():\n",
        "                negative_words.append((lemma, swn_synset.neg_score()))\n",
        "            objective_words.append((lemma, swn_synset.obj_score()))\n",
        "\n",
        "    positive_words.sort(key=lambda x: x[1], reverse=True)\n",
        "    negative_words.sort(key=lambda x: x[1], reverse=True)\n",
        "    objective_words.sort(key=lambda x: x[1], reverse=True)\n",
        "\n",
        "    return positive_words[0], negative_words[0], objective_words[0]\n",
        "\n",
        "most_pos_neg_obj_word(hamlet)"
      ],
      "metadata": {
        "colab": {
          "base_uri": "https://localhost:8080/"
        },
        "id": "95ZHU1CawbO4",
        "outputId": "df724363-ef23-4b04-c24a-28fba94a20f4"
      },
      "execution_count": 19,
      "outputs": [
        {
          "output_type": "execute_result",
          "data": {
            "text/plain": [
              "(('excellent', 1.0), ('fear', 0.875), ('Hamlet', 1.0))"
            ]
          },
          "metadata": {},
          "execution_count": 19
        }
      ]
    },
    {
      "cell_type": "code",
      "source": [
        "# 문제 1 : 위의 텍스트에서 가장 자주 등장하는 단어 상위 10개를 출력하시오.\n",
        "# 불용어 제거 (선택사항)\n",
        "stopwords = set(nltk.corpus.stopwords.words('english'))\n",
        "filtered_words = [word.lower() for word in words if word.isalnum() and word.lower() not in stopwords]\n",
        "\n",
        "# 빈도 분포 계산\n",
        "freq_dist = FreqDist(filtered_words)\n",
        "\n",
        "# 가장 자주 등장하는 단어 상위 10개 출력\n",
        "top_10_words = freq_dist.most_common(10)\n",
        "print(\"상위 10개의 단어:\")\n",
        "for word, frequency in top_10_words:\n",
        "    print(f\"{word}: {frequency}번\")"
      ],
      "metadata": {
        "id": "AtU8ZVZ8wmT4"
      },
      "execution_count": null,
      "outputs": []
    },
    {
      "cell_type": "code",
      "source": [
        "# 문제 2 : 위의 텍스트를 요약하여라\n",
        "from sklearn.decomposition import LatentDirichletAllocation\n",
        "from sklearn.feature_extraction.text import CountVectorizer\n",
        "import nltk\n",
        "import re\n",
        "\n",
        "# 문장으로 분할\n",
        "sentences = nltk.sent_tokenize(hamlet)\n",
        "\n",
        "# CountVectorizer를 사용하여 단어 벡터화\n",
        "count_vectorizer = CountVectorizer(stop_words='english')\n",
        "X = count_vectorizer.fit_transform(sentences)\n",
        "\n",
        "# LDA 모델 훈련\n",
        "lda_model = LatentDirichletAllocation(n_components=5, random_state=42)\n",
        "lda_model.fit(X)\n",
        "\n",
        "# 각 주제의 중요한 단어 추출\n",
        "feature_names = count_vectorizer.get_feature_names_out()\n",
        "n_top_words = 5\n",
        "summary_topics = []\n",
        "for topic_idx, topic in enumerate(lda_model.components_):\n",
        "    top_words_idx = topic.argsort()[:-n_top_words - 1:-1]\n",
        "    top_words = [feature_names[i] for i in top_words_idx]\n",
        "    summary_topics.append(top_words)\n",
        "\n",
        "# 요약 작성\n",
        "summary = '\\n'.join([f\"주제 {i+1}: {' '.join(topic_words)}\" for i, topic_words in enumerate(summary_topics)])\n",
        "\n",
        "print(\"요약:\")\n",
        "print(summary)"
      ],
      "metadata": {
        "colab": {
          "base_uri": "https://localhost:8080/"
        },
        "id": "0UMvnAj1yRkX",
        "outputId": "9dc631af-5d62-4367-d247-8bc0ece32757"
      },
      "execution_count": 25,
      "outputs": [
        {
          "output_type": "stream",
          "name": "stdout",
          "text": [
            "요약:\n",
            "주제 1: thou like thy exeunt oh\n",
            "주제 2: haue lord pol polon qu\n",
            "주제 3: ham lord hamlet haue good\n",
            "주제 4: king enter mar good queene\n",
            "주제 5: hor ophe shall come loue\n"
          ]
        }
      ]
    },
    {
      "cell_type": "code",
      "source": [
        "# 문제 1 : 제목의 감성지수를 구해보아라\n",
        "\n",
        "import nltk\n",
        "#nltk.download('all')\n",
        "from nltk.sentiment.vader import SentimentIntensityAnalyzer\n",
        "\n",
        "def get_sentiment(title):\n",
        "    sent = SentimentIntensityAnalyzer()\n",
        "    # 감성분석 수행\n",
        "    sentiment_score = sent.polarity_scores(title)\n",
        "    return sentiment_score['compound']\n",
        "\n",
        "title = \"The Tragedie of Hamlet by William Shakespeare 1599\"\n",
        "sentiment = get_sentiment(title)\n",
        "print(f\"제목: {title}\")\n",
        "print(f\"감성지수: {sentiment}\")"
      ],
      "metadata": {
        "colab": {
          "base_uri": "https://localhost:8080/"
        },
        "id": "GdWN76Zswpge",
        "outputId": "e41d7a12-bc58-4f3f-b507-2f07188cd67f"
      },
      "execution_count": 21,
      "outputs": [
        {
          "output_type": "stream",
          "name": "stdout",
          "text": [
            "제목: The Tragedie of Hamlet by William Shakespeare 1599\n",
            "감성지수: 0.0\n"
          ]
        }
      ]
    },
    {
      "cell_type": "code",
      "source": [
        "# 문제 2: synsets()를 이용하여 hamlet에서 랜덤으로 뽑은 단어에 대해 WordNet에 등재된 모든 Synset 객체 반환해보아라\n",
        "\n",
        "import random\n",
        "def get_random_words(text):\n",
        "    words = text.split()  # 문장을 단어로 나눔\n",
        "    random_word = random.sample(words, 1)  # 단어 중에서 임의로 선택\n",
        "    return random_word\n",
        "\n",
        "text = hamlet\n",
        "random_word = get_random_words(text)\n",
        "print(\"임의로 선택된 단어:\", random_word)\n",
        "\n",
        "from nltk.corpus import wordnet as wn\n",
        "\n",
        "term =\"heart\"\n",
        "synsets = wn.synsets(term)\n",
        "print(\"synsets() 반환 type :\", type(synsets))\n",
        "print(\"synsets() 반환 값 개수:\", len(synsets))\n",
        "print(\"synsets() 반환 값:\", synsets)"
      ],
      "metadata": {
        "colab": {
          "base_uri": "https://localhost:8080/"
        },
        "id": "9LBSOqo9wtKk",
        "outputId": "5ac04004-efce-4826-a190-ea1c624409b4"
      },
      "execution_count": 22,
      "outputs": [
        {
          "output_type": "stream",
          "name": "stdout",
          "text": [
            "임의로 선택된 단어: ['it']\n",
            "synsets() 반환 type : <class 'list'>\n",
            "synsets() 반환 값 개수: 10\n",
            "synsets() 반환 값: [Synset('heart.n.01'), Synset('heart.n.02'), Synset('heart.n.03'), Synset('center.n.01'), Synset('kernel.n.03'), Synset('heart.n.06'), Synset('heart.n.07'), Synset('heart.n.08'), Synset('affection.n.01'), Synset('heart.n.10')]\n"
          ]
        }
      ]
    },
    {
      "cell_type": "code",
      "source": [
        "# 문제 1 : WordNet을 사용하여 hamlet이라는 단어의 synsets를 생성하고 확인해보시오\n",
        "from nltk.corpus import wordnet as wn\n",
        "\n",
        "term = 'hamlet'\n",
        "\n",
        "# 'present'라는 단어로 wordnet의 synsets 생성.\n",
        "synsets = wn.synsets(term)\n",
        "print('synsets() 반환 type : ', type(synsets))\n",
        "print('synsets() 반환 값 개수 : ', len(synsets))\n",
        "print('synsets() 반환 값 : ', synsets)\n",
        "\n",
        "for synset in synsets :\n",
        "  print('##### Synset name : ', synset.name(), '#####')\n",
        "  print('POS : ', synset.lexname())\n",
        "  print('Definition : ', synset.definition())\n",
        "  print('Lemmas : ', synset.lemma_names())"
      ],
      "metadata": {
        "colab": {
          "base_uri": "https://localhost:8080/"
        },
        "id": "fWGosjFcw1u-",
        "outputId": "bf704b2f-99f1-4e7b-c937-73e00eef6bfd"
      },
      "execution_count": 23,
      "outputs": [
        {
          "output_type": "stream",
          "name": "stdout",
          "text": [
            "synsets() 반환 type :  <class 'list'>\n",
            "synsets() 반환 값 개수 :  3\n",
            "synsets() 반환 값 :  [Synset('hamlet.n.01'), Synset('hamlet.n.02'), Synset('village.n.02')]\n",
            "##### Synset name :  hamlet.n.01 #####\n",
            "POS :  noun.group\n",
            "Definition :  a community of people smaller than a village\n",
            "Lemmas :  ['hamlet', 'crossroads']\n",
            "##### Synset name :  hamlet.n.02 #####\n",
            "POS :  noun.person\n",
            "Definition :  the hero of William Shakespeare's tragedy who hoped to avenge the murder of his father\n",
            "Lemmas :  ['Hamlet']\n",
            "##### Synset name :  village.n.02 #####\n",
            "POS :  noun.location\n",
            "Definition :  a settlement smaller than a town\n",
            "Lemmas :  ['village', 'hamlet']\n"
          ]
        }
      ]
    },
    {
      "cell_type": "code",
      "source": [
        "# 문제 2 : hamlet 10000개까지의 글자를 대상으로 단어 토큰화를 진행하고 스탑워드를 제거하시오\n",
        "\n",
        "from nltk import word_tokenize, sent_tokenize\n",
        "\n",
        "hamlet_10000 = hamlet[:10000]\n",
        "\n",
        "# 여러 개의 문장으로 된 입력 데이터를 문장별로 단어 토큰화하게 만드는 함수 생성\n",
        "def tokenize_text(text):\n",
        "\n",
        "    # 문장별로 분리 토큰\n",
        "    sentences = sent_tokenize(text)\n",
        "\n",
        "    # 분리된 문장별 단어 토큰화\n",
        "    word_tokens = [word_tokenize(sentence) for sentence in sentences]\n",
        "    return word_tokens\n",
        "\n",
        "# 여러 문장에 대해 문장별 단어 토큰화 수행\n",
        "word_tokens = tokenize_text(hamlet_10000)\n",
        "print(type(word_tokens), len(word_tokens))\n",
        "print(word_tokens)\n",
        "\n",
        "import nltk\n",
        "\n",
        "stopwords = nltk.corpus.stopwords.words('english')\n",
        "all_tokens = []\n",
        "\n",
        "# 위 예제에서 3개의 문장별로 얻은 word_tokens list에 대해 스톱워드를 제거하는 반복문\n",
        "for sentence in word_tokens :\n",
        "    # 개별 문장별로 토큰화된 문장 list에 대해 스톱 워드를 제거하는 반복문\n",
        "    for word in sentence :\n",
        "        # 소문자로 모두 변환한다.\n",
        "        word = word.lower()\n",
        "\n",
        "        # 토큰화된 개별 단어가 스톱워드의 단어에 포함되지 않으면 word_tokens에 추가\n",
        "        if word not in stopwords :\n",
        "            all_tokens.append(word)\n",
        "\n",
        "print(all_tokens)"
      ],
      "metadata": {
        "colab": {
          "base_uri": "https://localhost:8080/"
        },
        "id": "RlAnsYWFyb_h",
        "outputId": "4920b78f-1cd5-4953-903c-06e05c6e16c1"
      },
      "execution_count": 26,
      "outputs": [
        {
          "output_type": "stream",
          "name": "stdout",
          "text": [
            "<class 'list'> 132\n",
            "[['[', 'The', 'Tragedie', 'of', 'Hamlet', 'by', 'William', 'Shakespeare', '1599', ']', 'Actus', 'Primus', '.'], ['Scoena', 'Prima', '.'], ['Enter', 'Barnardo', 'and', 'Francisco', 'two', 'Centinels', '.'], ['Barnardo', '.'], ['Who', \"'s\", 'there', '?'], ['Fran', '.'], ['Nay', 'answer', 'me', ':', 'Stand', '&', 'vnfold', 'your', 'selfe', 'Bar', '.'], ['Long', 'liue', 'the', 'King', 'Fran', '.'], ['Barnardo', '?'], ['Bar', '.'], ['He', 'Fran', '.'], ['You', 'come', 'most', 'carefully', 'vpon', 'your', 'houre', 'Bar', '.'], [\"'T\", 'is', 'now', 'strook', 'twelue', ',', 'get', 'thee', 'to', 'bed', 'Francisco', 'Fran', '.'], ['For', 'this', 'releefe', 'much', 'thankes', ':', \"'T\", 'is', 'bitter', 'cold', ',', 'And', 'I', 'am', 'sicke', 'at', 'heart', 'Barn', '.'], ['Haue', 'you', 'had', 'quiet', 'Guard', '?'], ['Fran', '.'], ['Not', 'a', 'Mouse', 'stirring', 'Barn', '.'], ['Well', ',', 'goodnight', '.'], ['If', 'you', 'do', 'meet', 'Horatio', 'and', 'Marcellus', ',', 'the', 'Riuals', 'of', 'my', 'Watch', ',', 'bid', 'them', 'make', 'hast', '.'], ['Enter', 'Horatio', 'and', 'Marcellus', '.'], ['Fran', '.'], ['I', 'thinke', 'I', 'heare', 'them', '.'], ['Stand', ':', 'who', \"'s\", 'there', '?'], ['Hor', '.'], ['Friends', 'to', 'this', 'ground', 'Mar', '.'], ['And', 'Leige-men', 'to', 'the', 'Dane', 'Fran', '.'], ['Giue', 'you', 'good', 'night', 'Mar', '.'], ['O', 'farwel', 'honest', 'Soldier', ',', 'who', 'hath', 'relieu', \"'d\", 'you', '?'], ['Fra', '.'], ['Barnardo', 'ha', \"'s\", 'my', 'place', ':', 'giue', 'you', 'goodnight', '.'], ['Exit', 'Fran', '.'], ['Mar', '.'], ['Holla', 'Barnardo', 'Bar', '.'], ['Say', ',', 'what', 'is', 'Horatio', 'there', '?'], ['Hor', '.'], ['A', 'peece', 'of', 'him', 'Bar', '.'], ['Welcome', 'Horatio', ',', 'welcome', 'good', 'Marcellus', 'Mar', '.'], ['What', ',', 'ha', \"'s\", 'this', 'thing', 'appear', \"'d\", 'againe', 'to', 'night', 'Bar', '.'], ['I', 'haue', 'seene', 'nothing', 'Mar', '.'], ['Horatio', 'saies', ',', \"'t\", 'is', 'but', 'our', 'Fantasie', ',', 'And', 'will', 'not', 'let', 'beleefe', 'take', 'hold', 'of', 'him', 'Touching', 'this', 'dreaded', 'sight', ',', 'twice', 'seene', 'of', 'vs', ',', 'Therefore', 'I', 'haue', 'intreated', 'him', 'along', 'With', 'vs', ',', 'to', 'watch', 'the', 'minutes', 'of', 'this', 'Night', ',', 'That', 'if', 'againe', 'this', 'Apparition', 'come', ',', 'He', 'may', 'approue', 'our', 'eyes', ',', 'and', 'speake', 'to', 'it', 'Hor', '.'], ['Tush', ',', 'tush', ',', \"'twill\", 'not', 'appeare', 'Bar', '.'], ['Sit', 'downe', 'a-while', ',', 'And', 'let', 'vs', 'once', 'againe', 'assaile', 'your', 'eares', ',', 'That', 'are', 'so', 'fortified', 'against', 'our', 'Story', ',', 'What', 'we', 'two', 'Nights', 'haue', 'seene', 'Hor', '.'], ['Well', ',', 'sit', 'we', 'downe', ',', 'And', 'let', 'vs', 'heare', 'Barnardo', 'speake', 'of', 'this', 'Barn', '.'], ['Last', 'night', 'of', 'all', ',', 'When', 'yond', 'same', 'Starre', 'that', \"'s\", 'Westward', 'from', 'the', 'Pole', 'Had', 'made', 'his', 'course', 't', \"'\", 'illume', 'that', 'part', 'of', 'Heauen', 'Where', 'now', 'it', 'burnes', ',', 'Marcellus', 'and', 'my', 'selfe', ',', 'The', 'Bell', 'then', 'beating', 'one', 'Mar', '.'], ['Peace', ',', 'breake', 'thee', 'of', ':', 'Enter', 'the', 'Ghost', '.'], ['Looke', 'where', 'it', 'comes', 'againe', 'Barn', '.'], ['In', 'the', 'same', 'figure', ',', 'like', 'the', 'King', 'that', \"'s\", 'dead', 'Mar', '.'], ['Thou', 'art', 'a', 'Scholler', ';', 'speake', 'to', 'it', 'Horatio', 'Barn', '.'], ['Lookes', 'it', 'not', 'like', 'the', 'King', '?'], ['Marke', 'it', 'Horatio', 'Hora', '.'], ['Most', 'like', ':', 'It', 'harrowes', 'me', 'with', 'fear', '&', 'wonder', 'Barn', '.'], ['It', 'would', 'be', 'spoke', 'too', 'Mar', '.'], ['Question', 'it', 'Horatio', 'Hor', '.'], ['What', 'art', 'thou', 'that', \"vsurp'st\", 'this', 'time', 'of', 'night', ',', 'Together', 'with', 'that', 'Faire', 'and', 'Warlike', 'forme', 'In', 'which', 'the', 'Maiesty', 'of', 'buried', 'Denmarke', 'Did', 'sometimes', 'march', ':', 'By', 'Heauen', 'I', 'charge', 'thee', 'speake', 'Mar', '.'], ['It', 'is', 'offended', 'Barn', '.'], ['See', ',', 'it', 'stalkes', 'away', 'Hor', '.'], ['Stay', ':', 'speake', ';', 'speake', ':', 'I', 'Charge', 'thee', ',', 'speake', '.'], ['Exit', 'the', 'Ghost', '.'], ['Mar', '.'], [\"'T\", 'is', 'gone', ',', 'and', 'will', 'not', 'answer', 'Barn', '.'], ['How', 'now', 'Horatio', '?'], ['You', 'tremble', '&', 'look', 'pale', ':', 'Is', 'not', 'this', 'something', 'more', 'then', 'Fantasie', '?'], ['What', 'thinke', 'you', 'o', \"n't\", '?'], ['Hor', '.'], ['Before', 'my', 'God', ',', 'I', 'might', 'not', 'this', 'beleeue', 'Without', 'the', 'sensible', 'and', 'true', 'auouch', 'Of', 'mine', 'owne', 'eyes', 'Mar', '.'], ['Is', 'it', 'not', 'like', 'the', 'King', '?'], ['Hor', '.'], ['As', 'thou', 'art', 'to', 'thy', 'selfe', ',', 'Such', 'was', 'the', 'very', 'Armour', 'he', 'had', 'on', ',', 'When', 'th', \"'\", 'Ambitious', 'Norwey', 'combatted', ':', 'So', 'frown', \"'d\", 'he', 'once', ',', 'when', 'in', 'an', 'angry', 'parle', 'He', 'smot', 'the', 'sledded', 'Pollax', 'on', 'the', 'Ice', '.'], [\"'T\", 'is', 'strange', 'Mar', '.'], ['Thus', 'twice', 'before', ',', 'and', 'iust', 'at', 'this', 'dead', 'houre', ',', 'With', 'Martiall', 'stalke', ',', 'hath', 'he', 'gone', 'by', 'our', 'Watch', 'Hor', '.'], ['In', 'what', 'particular', 'thought', 'to', 'work', ',', 'I', 'know', 'not', ':', 'But', 'in', 'the', 'grosse', 'and', 'scope', 'of', 'my', 'Opinion', ',', 'This', 'boades', 'some', 'strange', 'erruption', 'to', 'our', 'State', 'Mar', '.'], ['Good', 'now', 'sit', 'downe', ',', '&', 'tell', 'me', 'he', 'that', 'knowes', 'Why', 'this', 'same', 'strict', 'and', 'most', 'obseruant', 'Watch', ',', 'So', 'nightly', 'toyles', 'the', 'subiect', 'of', 'the', 'Land', ',', 'And', 'why', 'such', 'dayly', 'Cast', 'of', 'Brazon', 'Cannon', 'And', 'Forraigne', 'Mart', 'for', 'Implements', 'of', 'warre', ':', 'Why', 'such', 'impresse', 'of', 'Ship-wrights', ',', 'whose', 'sore', 'Taske', 'Do', \"'s\", 'not', 'diuide', 'the', 'Sunday', 'from', 'the', 'weeke', ',', 'What', 'might', 'be', 'toward', ',', 'that', 'this', 'sweaty', 'hast', 'Doth', 'make', 'the', 'Night', 'ioynt-Labourer', 'with', 'the', 'day', ':', 'Who', \"is't\", 'that', 'can', 'informe', 'me', '?'], ['Hor', '.'], ['That', 'can', 'I', ',', 'At', 'least', 'the', 'whisper', 'goes', 'so', ':', 'Our', 'last', 'King', ',', 'Whose', 'Image', 'euen', 'but', 'now', 'appear', \"'d\", 'to', 'vs', ',', 'Was', '(', 'as', 'you', 'know', ')', 'by', 'Fortinbras', 'of', 'Norway', ',', '(', 'Thereto', 'prick', \"'d\", 'on', 'by', 'a', 'most', 'emulate', 'Pride', ')', 'Dar', \"'d\", 'to', 'the', 'Combate', '.'], ['In', 'which', ',', 'our', 'Valiant', 'Hamlet', ',', '(', 'For', 'so', 'this', 'side', 'of', 'our', 'knowne', 'world', 'esteem', \"'d\", 'him', ')', 'Did', 'slay', 'this', 'Fortinbras', ':', 'who', 'by', 'a', 'Seal', \"'d\", 'Compact', ',', 'Well', 'ratified', 'by', 'Law', ',', 'and', 'Heraldrie', ',', 'Did', 'forfeite', '(', 'with', 'his', 'life', ')', 'all', 'those', 'his', 'Lands', 'Which', 'he', 'stood', 'seiz', \"'d\", 'on', ',', 'to', 'the', 'Conqueror', ':', 'Against', 'the', 'which', ',', 'a', 'Moity', 'competent', 'Was', 'gaged', 'by', 'our', 'King', ':', 'which', 'had', \"return'd\", 'To', 'the', 'Inheritance', 'of', 'Fortinbras', ',', 'Had', 'he', 'bin', 'Vanquisher', ',', 'as', 'by', 'the', 'same', \"Cou'nant\", 'And', 'carriage', 'of', 'the', 'Article', 'designe', ',', 'His', 'fell', 'to', 'Hamlet', '.'], ['Now', 'sir', ',', 'young', 'Fortinbras', ',', 'Of', 'vnimproued', 'Mettle', ',', 'hot', 'and', 'full', ',', 'Hath', 'in', 'the', 'skirts', 'of', 'Norway', ',', 'heere', 'and', 'there', ',', 'Shark', \"'d\", 'vp', 'a', 'List', 'of', 'Landlesse', 'Resolutes', ',', 'For', 'Foode', 'and', 'Diet', ',', 'to', 'some', 'Enterprize', 'That', 'hath', 'a', 'stomacke', 'i', \"n't\", ':', 'which', 'is', 'no', 'other', '(', 'And', 'it', 'doth', 'well', 'appeare', 'vnto', 'our', 'State', ')', 'But', 'to', 'recouer', 'of', 'vs', 'by', 'strong', 'hand', 'And', 'termes', 'Compulsatiue', ',', 'those', 'foresaid', 'Lands', 'So', 'by', 'his', 'Father', 'lost', ':', 'and', 'this', '(', 'I', 'take', 'it', ')', 'Is', 'the', 'maine', 'Motiue', 'of', 'our', 'Preparations', ',', 'The', 'Sourse', 'of', 'this', 'our', 'Watch', ',', 'and', 'the', 'cheefe', 'head', 'Of', 'this', 'post-hast', ',', 'and', 'Romage', 'in', 'the', 'Land', '.'], ['Enter', 'Ghost', 'againe', '.'], ['But', 'soft', ',', 'behold', ':', 'Loe', ',', 'where', 'it', 'comes', 'againe', ':', 'Ile', 'crosse', 'it', ',', 'though', 'it', 'blast', 'me', '.'], ['Stay', 'Illusion', ':', 'If', 'thou', 'hast', 'any', 'sound', ',', 'or', 'vse', 'of', 'Voyce', ',', 'Speake', 'to', 'me', '.'], ['If', 'there', 'be', 'any', 'good', 'thing', 'to', 'be', 'done', ',', 'That', 'may', 'to', 'thee', 'do', 'ease', ',', 'and', 'grace', 'to', 'me', ';', 'speak', 'to', 'me', '.'], ['If', 'thou', 'art', 'priuy', 'to', 'thy', 'Countries', 'Fate', '(', 'Which', 'happily', 'foreknowing', 'may', 'auoyd', ')', 'Oh', 'speake', '.'], ['Or', ',', 'if', 'thou', 'hast', 'vp-hoorded', 'in', 'thy', 'life', 'Extorted', 'Treasure', 'in', 'the', 'wombe', 'of', 'Earth', ',', '(', 'For', 'which', ',', 'they', 'say', ',', 'you', 'Spirits', 'oft', 'walke', 'in', 'death', ')', 'Speake', 'of', 'it', '.'], ['Stay', ',', 'and', 'speake', '.'], ['Stop', 'it', 'Marcellus', 'Mar', '.'], ['Shall', 'I', 'strike', 'at', 'it', 'with', 'my', 'Partizan', '?'], ['Hor', '.'], ['Do', ',', 'if', 'it', 'will', 'not', 'stand', 'Barn', '.'], [\"'T\", 'is', 'heere', 'Hor', '.'], [\"'T\", 'is', 'heere', 'Mar', '.'], [\"'T\", 'is', 'gone', '.'], ['Exit', 'Ghost', '.'], ['We', 'do', 'it', 'wrong', ',', 'being', 'so', 'Maiesticall', 'To', 'offer', 'it', 'the', 'shew', 'of', 'Violence', ',', 'For', 'it', 'is', 'as', 'the', 'Ayre', ',', 'invulnerable', ',', 'And', 'our', 'vaine', 'blowes', ',', 'malicious', 'Mockery', 'Barn', '.'], ['It', 'was', 'about', 'to', 'speake', ',', 'when', 'the', 'Cocke', 'crew', 'Hor', '.'], ['And', 'then', 'it', 'started', ',', 'like', 'a', 'guilty', 'thing', 'Vpon', 'a', 'fearfull', 'Summons', '.'], ['I', 'haue', 'heard', ',', 'The', 'Cocke', 'that', 'is', 'the', 'Trumpet', 'to', 'the', 'day', ',', 'Doth', 'with', 'his', 'lofty', 'and', 'shrill-sounding', 'Throate', 'Awake', 'the', 'God', 'of', 'Day', ':', 'and', 'at', 'his', 'warning', ',', 'Whether', 'in', 'Sea', ',', 'or', 'Fire', ',', 'in', 'Earth', ',', 'or', 'Ayre', ',', 'Th', \"'\", 'extrauagant', ',', 'and', 'erring', 'Spirit', ',', 'hyes', 'To', 'his', 'Confine', '.'], ['And', 'of', 'the', 'truth', 'heerein', ',', 'This', 'present', 'Obiect', 'made', 'probation', 'Mar', '.'], ['It', 'faded', 'on', 'the', 'crowing', 'of', 'the', 'Cocke', '.'], ['Some', 'sayes', ',', 'that', 'euer', \"'gainst\", 'that', 'Season', 'comes', 'Wherein', 'our', 'Sauiours', 'Birch', 'is', 'celebrated', ',', 'The', 'Bird', 'of', 'Dawning', 'singeth', 'all', 'night', 'long', ':', 'And', 'then', '(', 'they', 'say', ')', 'no', 'Spirit', 'can', 'walke', 'abroad', ',', 'The', 'nights', 'are', 'wholsome', ',', 'then', 'no', 'Planets', 'strike', ',', 'No', 'Faiery', 'talkes', ',', 'nor', 'Witch', 'hath', 'power', 'to', 'Charme', ':', 'So', 'hallow', \"'d\", ',', 'and', 'so', 'gracious', 'is', 'the', 'time', 'Hor', '.'], ['So', 'haue', 'I', 'heard', ',', 'and', 'do', 'in', 'part', 'beleeue', 'it', '.'], ['But', 'looke', ',', 'the', 'Morne', 'in', 'Russet', 'mantle', 'clad', ',', 'Walkes', 'o', \"'re\", 'the', 'dew', 'of', 'yon', 'high', 'Easterne', 'Hill', ',', 'Breake', 'we', 'our', 'Watch', 'vp', ',', 'and', 'by', 'my', 'aduice', 'Let', 'vs', 'impart', 'what', 'we', 'haue', 'seene', 'to', 'night', 'Vnto', 'yong', 'Hamlet', '.'], ['For', 'vpon', 'my', 'life', ',', 'This', 'Spirit', 'dumbe', 'to', 'vs', ',', 'will', 'speake', 'to', 'him', ':', 'Do', 'you', 'consent', 'we', 'shall', 'acquaint', 'him', 'with', 'it', ',', 'As', 'needfull', 'in', 'our', 'Loues', ',', 'fitting', 'our', 'Duty', '?'], ['Mar', '.'], ['Let', \"do't\", 'I', 'pray', ',', 'and', 'I', 'this', 'morning', 'know', 'Where', 'we', 'shall', 'finde', 'him', 'most', 'conueniently', '.'], ['Exeunt', '.'], ['Scena', 'Secunda', '.'], ['Enter', 'Claudius', 'King', 'of', 'Denmarke', ',', 'Gertrude', 'the', 'Queene', ',', 'Hamlet', ',', 'Polonius', ',', 'Laertes', ',', 'and', 'his', 'Sister', 'Ophelia', ',', 'Lords', 'Attendant', '.'], ['King', '.'], ['Though', 'yet', 'of', 'Hamlet', 'our', 'deere', 'Brothers', 'death', 'The', 'memory', 'be', 'greene', ':', 'and', 'that', 'it', 'vs', 'befitted', 'To', 'beare', 'our', 'hearts', 'in', 'greefe', ',', 'and', 'our', 'whole', 'Kingdome', 'To', 'be', 'contracted', 'in', 'one', 'brow', 'of', 'woe', ':', 'Yet', 'so', 'farre', 'hath', 'Discretion', 'fought', 'with', 'Nature', ',', 'That', 'we', 'with', 'wisest', 'sorrow', 'thinke', 'on', 'him', ',', 'Together', 'with', 'remembrance', 'of', 'our', 'selues', '.'], ['Therefore', 'our', 'sometimes', 'Sister', ',', 'now', 'our', 'Queene', ',', 'Th', \"'\", 'imperiall', 'Ioyntresse', 'of', 'this', 'warlike', 'State', ',', 'Haue', 'we', ',', 'as', \"'twere\", ',', 'with', 'a', 'defeated', 'ioy', ',', 'With', 'one', 'Auspicious', ',', 'and', 'one', 'Dropping', 'eye', ',', 'With', 'mirth', 'in', 'Funerall', ',', 'and', 'with', 'Dirge', 'in', 'Marriage', ',', 'In', 'equall', 'Scale', 'weighing', 'Delight', 'and', 'Dole', 'Taken', 'to', 'Wife', ';', 'nor', 'haue', 'we', 'heerein', \"barr'd\", 'Your', 'better', 'Wisedomes', ',', 'which', 'haue', 'freely', 'gone', 'With', 'this', 'affaire', 'along', ',', 'for', 'all', 'our', 'Thankes', '.'], ['Now', 'followes', ',', 'that', 'you', 'know', 'young', 'Fortinbras', ',', 'Holding', 'a', 'weake', 'supposall', 'of', 'our', 'worth', ';', 'Or', 'thinking', 'by', 'our', 'late', 'deere', 'Brothers', 'death', ',', 'Our', 'State', 'to', 'be', 'disioynt', ',', 'and', 'out', 'of', 'Frame', ',', 'Colleagued', 'with', 'the', 'dreame', 'of', 'his', 'Aduantage', ';', 'He', 'hath', 'not', 'fayl', \"'d\", 'to', 'pester', 'vs', 'with', 'Message', ',', 'Importing', 'the', 'surrender', 'of', 'those', 'Lands', 'Lost', 'by', 'his', 'Father', ':', 'with', 'all', 'Bonds', 'of', 'Law', 'To', 'our', 'most', 'valiant', 'Brother', '.'], ['So', 'much', 'for', 'him', '.'], ['Enter', 'Voltemand', 'and', 'Cornelius', '.'], ['Now', 'for', 'our', 'selfe', ',', 'and', 'for', 'this', 'time', 'of', 'meeting', 'Thus', 'much', 'the', 'businesse', 'is', '.'], ['We', 'haue', 'heere', 'writ', 'To', 'Norway', ',', 'Vncle', 'of', 'young', 'Fortinbras', ',', 'Who', 'Impotent', 'and', 'Bedrid', ',', 'scarsely', 'heares', 'Of', 'this', 'his', 'Nephewes', 'purpose', ',', 'to', 'suppresse', 'His', 'further', 'gate', 'heerein', '.'], ['In', 'that', 'the', 'Leuies', ',', 'The', 'Lists', ',', 'and', 'full', 'proportions', 'are', 'all', 'made', 'Out', 'of', 'his', 'subiect', ':', 'and', 'we', 'heere', 'dispatch', 'You', 'good', 'Cornelius', ',', 'and', 'you', 'Voltemand', ',', 'For', 'bearing', 'of', 'this', 'greeting', 'to', 'old', 'Norway', ',', 'Giuing', 'to', 'you', 'no', 'further', 'personall', 'power', 'To', 'businesse', 'with', 'the', 'King', ',', 'more', 'then', 'the', 'scope', 'Of', 'these', 'dilated', 'Articles', 'allow', ':', 'Farewell', ',', 'and', 'let', 'your', 'hast', 'commend', 'your', 'duty', 'Volt', '.'], ['In', 'that', ',', 'and', 'all', 'things', ',', 'will', 'we', 'shew', 'our', 'duty', 'King', '.'], ['We', 'doubt', 'it', 'nothing', ',', 'heartily', 'farewell', '.'], ['Exit', 'Voltemand', 'and', 'Cornelius', '.'], ['And', 'now', 'Laertes', ',', 'what', \"'s\", 'the', 'newes', 'with', 'you', '?'], ['You', 'told', 'vs', 'of', 'some', 'suite', '.'], ['What', \"is't\", 'Laertes', '?'], ['You', 'can', 'not', 'speake', 'of', 'Reason', 'to', 'the', 'Dane', ',', 'And', 'loose', 'your', 'voyce', '.'], ['What', \"would'st\", 'thou', 'beg', 'Laertes', ',', 'That', 'shall', 'not', 'be', 'my', 'Offer', ',', 'not', 'thy', 'Asking', '?'], ['The', 'Head', 'is', 'not', 'more', 'Natiue', 'to', 'the', 'Heart', ',', 'The', 'Hand', 'more', 'instrumentall', 'to', 'the', 'Mouth', ',', 'Then', 'is', 'the', 'Throne', 'of', 'Denmarke', 'to', 'thy', 'Father', '.'], ['What', \"would'st\", 'thou', 'haue', 'Laertes', '?'], ['Laer', '.'], ['Dread', 'my', 'Lord', ',', 'Your', 'leaue', 'and', 'fauour', 'to', 'returne', 'to', 'France', ',', 'From', 'whence', ',', 'though', 'willingly', 'I', 'came', 'to', 'Denmarke', 'To', 'shew', 'my', 'duty', 'in', 'your', 'Coronation', ',', 'Yet', 'now', 'I', 'must', 'confesse', ',', 'that', 'duty', 'done', ',', 'My', 'thoughts', 'and', 'wishes', 'bend', 'againe', 'towards', 'France', ',', 'And', 'bow', 'them', 'to', 'your', 'gracious', 'leaue', 'and', 'pardon', 'King', '.'], ['Haue', 'you', 'your', 'Fathers', 'leaue', '?'], ['What', 'sayes', 'Pollonius', '?'], ['Pol', '.'], ['He', 'hath', 'my', 'Lord', ':', 'I', 'do', 'beseech', 'you', 'giue', 'him', 'leaue', 'to', 'go', 'King', '.'], ['Take', 'thy']]\n",
            "['[', 'tragedie', 'hamlet', 'william', 'shakespeare', '1599', ']', 'actus', 'primus', '.', 'scoena', 'prima', '.', 'enter', 'barnardo', 'francisco', 'two', 'centinels', '.', 'barnardo', '.', \"'s\", '?', 'fran', '.', 'nay', 'answer', ':', 'stand', '&', 'vnfold', 'selfe', 'bar', '.', 'long', 'liue', 'king', 'fran', '.', 'barnardo', '?', 'bar', '.', 'fran', '.', 'come', 'carefully', 'vpon', 'houre', 'bar', '.', \"'t\", 'strook', 'twelue', ',', 'get', 'thee', 'bed', 'francisco', 'fran', '.', 'releefe', 'much', 'thankes', ':', \"'t\", 'bitter', 'cold', ',', 'sicke', 'heart', 'barn', '.', 'haue', 'quiet', 'guard', '?', 'fran', '.', 'mouse', 'stirring', 'barn', '.', 'well', ',', 'goodnight', '.', 'meet', 'horatio', 'marcellus', ',', 'riuals', 'watch', ',', 'bid', 'make', 'hast', '.', 'enter', 'horatio', 'marcellus', '.', 'fran', '.', 'thinke', 'heare', '.', 'stand', ':', \"'s\", '?', 'hor', '.', 'friends', 'ground', 'mar', '.', 'leige-men', 'dane', 'fran', '.', 'giue', 'good', 'night', 'mar', '.', 'farwel', 'honest', 'soldier', ',', 'hath', 'relieu', \"'d\", '?', 'fra', '.', 'barnardo', 'ha', \"'s\", 'place', ':', 'giue', 'goodnight', '.', 'exit', 'fran', '.', 'mar', '.', 'holla', 'barnardo', 'bar', '.', 'say', ',', 'horatio', '?', 'hor', '.', 'peece', 'bar', '.', 'welcome', 'horatio', ',', 'welcome', 'good', 'marcellus', 'mar', '.', ',', 'ha', \"'s\", 'thing', 'appear', \"'d\", 'againe', 'night', 'bar', '.', 'haue', 'seene', 'nothing', 'mar', '.', 'horatio', 'saies', ',', \"'t\", 'fantasie', ',', 'let', 'beleefe', 'take', 'hold', 'touching', 'dreaded', 'sight', ',', 'twice', 'seene', 'vs', ',', 'therefore', 'haue', 'intreated', 'along', 'vs', ',', 'watch', 'minutes', 'night', ',', 'againe', 'apparition', 'come', ',', 'may', 'approue', 'eyes', ',', 'speake', 'hor', '.', 'tush', ',', 'tush', ',', \"'twill\", 'appeare', 'bar', '.', 'sit', 'downe', 'a-while', ',', 'let', 'vs', 'againe', 'assaile', 'eares', ',', 'fortified', 'story', ',', 'two', 'nights', 'haue', 'seene', 'hor', '.', 'well', ',', 'sit', 'downe', ',', 'let', 'vs', 'heare', 'barnardo', 'speake', 'barn', '.', 'last', 'night', ',', 'yond', 'starre', \"'s\", 'westward', 'pole', 'made', 'course', \"'\", 'illume', 'part', 'heauen', 'burnes', ',', 'marcellus', 'selfe', ',', 'bell', 'beating', 'one', 'mar', '.', 'peace', ',', 'breake', 'thee', ':', 'enter', 'ghost', '.', 'looke', 'comes', 'againe', 'barn', '.', 'figure', ',', 'like', 'king', \"'s\", 'dead', 'mar', '.', 'thou', 'art', 'scholler', ';', 'speake', 'horatio', 'barn', '.', 'lookes', 'like', 'king', '?', 'marke', 'horatio', 'hora', '.', 'like', ':', 'harrowes', 'fear', '&', 'wonder', 'barn', '.', 'would', 'spoke', 'mar', '.', 'question', 'horatio', 'hor', '.', 'art', 'thou', \"vsurp'st\", 'time', 'night', ',', 'together', 'faire', 'warlike', 'forme', 'maiesty', 'buried', 'denmarke', 'sometimes', 'march', ':', 'heauen', 'charge', 'thee', 'speake', 'mar', '.', 'offended', 'barn', '.', 'see', ',', 'stalkes', 'away', 'hor', '.', 'stay', ':', 'speake', ';', 'speake', ':', 'charge', 'thee', ',', 'speake', '.', 'exit', 'ghost', '.', 'mar', '.', \"'t\", 'gone', ',', 'answer', 'barn', '.', 'horatio', '?', 'tremble', '&', 'look', 'pale', ':', 'something', 'fantasie', '?', 'thinke', \"n't\", '?', 'hor', '.', 'god', ',', 'might', 'beleeue', 'without', 'sensible', 'true', 'auouch', 'mine', 'owne', 'eyes', 'mar', '.', 'like', 'king', '?', 'hor', '.', 'thou', 'art', 'thy', 'selfe', ',', 'armour', ',', 'th', \"'\", 'ambitious', 'norwey', 'combatted', ':', 'frown', \"'d\", ',', 'angry', 'parle', 'smot', 'sledded', 'pollax', 'ice', '.', \"'t\", 'strange', 'mar', '.', 'thus', 'twice', ',', 'iust', 'dead', 'houre', ',', 'martiall', 'stalke', ',', 'hath', 'gone', 'watch', 'hor', '.', 'particular', 'thought', 'work', ',', 'know', ':', 'grosse', 'scope', 'opinion', ',', 'boades', 'strange', 'erruption', 'state', 'mar', '.', 'good', 'sit', 'downe', ',', '&', 'tell', 'knowes', 'strict', 'obseruant', 'watch', ',', 'nightly', 'toyles', 'subiect', 'land', ',', 'dayly', 'cast', 'brazon', 'cannon', 'forraigne', 'mart', 'implements', 'warre', ':', 'impresse', 'ship-wrights', ',', 'whose', 'sore', 'taske', \"'s\", 'diuide', 'sunday', 'weeke', ',', 'might', 'toward', ',', 'sweaty', 'hast', 'doth', 'make', 'night', 'ioynt-labourer', 'day', ':', \"is't\", 'informe', '?', 'hor', '.', ',', 'least', 'whisper', 'goes', ':', 'last', 'king', ',', 'whose', 'image', 'euen', 'appear', \"'d\", 'vs', ',', '(', 'know', ')', 'fortinbras', 'norway', ',', '(', 'thereto', 'prick', \"'d\", 'emulate', 'pride', ')', 'dar', \"'d\", 'combate', '.', ',', 'valiant', 'hamlet', ',', '(', 'side', 'knowne', 'world', 'esteem', \"'d\", ')', 'slay', 'fortinbras', ':', 'seal', \"'d\", 'compact', ',', 'well', 'ratified', 'law', ',', 'heraldrie', ',', 'forfeite', '(', 'life', ')', 'lands', 'stood', 'seiz', \"'d\", ',', 'conqueror', ':', ',', 'moity', 'competent', 'gaged', 'king', ':', \"return'd\", 'inheritance', 'fortinbras', ',', 'bin', 'vanquisher', ',', \"cou'nant\", 'carriage', 'article', 'designe', ',', 'fell', 'hamlet', '.', 'sir', ',', 'young', 'fortinbras', ',', 'vnimproued', 'mettle', ',', 'hot', 'full', ',', 'hath', 'skirts', 'norway', ',', 'heere', ',', 'shark', \"'d\", 'vp', 'list', 'landlesse', 'resolutes', ',', 'foode', 'diet', ',', 'enterprize', 'hath', 'stomacke', \"n't\", ':', '(', 'doth', 'well', 'appeare', 'vnto', 'state', ')', 'recouer', 'vs', 'strong', 'hand', 'termes', 'compulsatiue', ',', 'foresaid', 'lands', 'father', 'lost', ':', '(', 'take', ')', 'maine', 'motiue', 'preparations', ',', 'sourse', 'watch', ',', 'cheefe', 'head', 'post-hast', ',', 'romage', 'land', '.', 'enter', 'ghost', 'againe', '.', 'soft', ',', 'behold', ':', 'loe', ',', 'comes', 'againe', ':', 'ile', 'crosse', ',', 'though', 'blast', '.', 'stay', 'illusion', ':', 'thou', 'hast', 'sound', ',', 'vse', 'voyce', ',', 'speake', '.', 'good', 'thing', 'done', ',', 'may', 'thee', 'ease', ',', 'grace', ';', 'speak', '.', 'thou', 'art', 'priuy', 'thy', 'countries', 'fate', '(', 'happily', 'foreknowing', 'may', 'auoyd', ')', 'oh', 'speake', '.', ',', 'thou', 'hast', 'vp-hoorded', 'thy', 'life', 'extorted', 'treasure', 'wombe', 'earth', ',', '(', ',', 'say', ',', 'spirits', 'oft', 'walke', 'death', ')', 'speake', '.', 'stay', ',', 'speake', '.', 'stop', 'marcellus', 'mar', '.', 'shall', 'strike', 'partizan', '?', 'hor', '.', ',', 'stand', 'barn', '.', \"'t\", 'heere', 'hor', '.', \"'t\", 'heere', 'mar', '.', \"'t\", 'gone', '.', 'exit', 'ghost', '.', 'wrong', ',', 'maiesticall', 'offer', 'shew', 'violence', ',', 'ayre', ',', 'invulnerable', ',', 'vaine', 'blowes', ',', 'malicious', 'mockery', 'barn', '.', 'speake', ',', 'cocke', 'crew', 'hor', '.', 'started', ',', 'like', 'guilty', 'thing', 'vpon', 'fearfull', 'summons', '.', 'haue', 'heard', ',', 'cocke', 'trumpet', 'day', ',', 'doth', 'lofty', 'shrill-sounding', 'throate', 'awake', 'god', 'day', ':', 'warning', ',', 'whether', 'sea', ',', 'fire', ',', 'earth', ',', 'ayre', ',', 'th', \"'\", 'extrauagant', ',', 'erring', 'spirit', ',', 'hyes', 'confine', '.', 'truth', 'heerein', ',', 'present', 'obiect', 'made', 'probation', 'mar', '.', 'faded', 'crowing', 'cocke', '.', 'sayes', ',', 'euer', \"'gainst\", 'season', 'comes', 'wherein', 'sauiours', 'birch', 'celebrated', ',', 'bird', 'dawning', 'singeth', 'night', 'long', ':', '(', 'say', ')', 'spirit', 'walke', 'abroad', ',', 'nights', 'wholsome', ',', 'planets', 'strike', ',', 'faiery', 'talkes', ',', 'witch', 'hath', 'power', 'charme', ':', 'hallow', \"'d\", ',', 'gracious', 'time', 'hor', '.', 'haue', 'heard', ',', 'part', 'beleeue', '.', 'looke', ',', 'morne', 'russet', 'mantle', 'clad', ',', 'walkes', \"'re\", 'dew', 'yon', 'high', 'easterne', 'hill', ',', 'breake', 'watch', 'vp', ',', 'aduice', 'let', 'vs', 'impart', 'haue', 'seene', 'night', 'vnto', 'yong', 'hamlet', '.', 'vpon', 'life', ',', 'spirit', 'dumbe', 'vs', ',', 'speake', ':', 'consent', 'shall', 'acquaint', ',', 'needfull', 'loues', ',', 'fitting', 'duty', '?', 'mar', '.', 'let', \"do't\", 'pray', ',', 'morning', 'know', 'shall', 'finde', 'conueniently', '.', 'exeunt', '.', 'scena', 'secunda', '.', 'enter', 'claudius', 'king', 'denmarke', ',', 'gertrude', 'queene', ',', 'hamlet', ',', 'polonius', ',', 'laertes', ',', 'sister', 'ophelia', ',', 'lords', 'attendant', '.', 'king', '.', 'though', 'yet', 'hamlet', 'deere', 'brothers', 'death', 'memory', 'greene', ':', 'vs', 'befitted', 'beare', 'hearts', 'greefe', ',', 'whole', 'kingdome', 'contracted', 'one', 'brow', 'woe', ':', 'yet', 'farre', 'hath', 'discretion', 'fought', 'nature', ',', 'wisest', 'sorrow', 'thinke', ',', 'together', 'remembrance', 'selues', '.', 'therefore', 'sometimes', 'sister', ',', 'queene', ',', 'th', \"'\", 'imperiall', 'ioyntresse', 'warlike', 'state', ',', 'haue', ',', \"'twere\", ',', 'defeated', 'ioy', ',', 'one', 'auspicious', ',', 'one', 'dropping', 'eye', ',', 'mirth', 'funerall', ',', 'dirge', 'marriage', ',', 'equall', 'scale', 'weighing', 'delight', 'dole', 'taken', 'wife', ';', 'haue', 'heerein', \"barr'd\", 'better', 'wisedomes', ',', 'haue', 'freely', 'gone', 'affaire', 'along', ',', 'thankes', '.', 'followes', ',', 'know', 'young', 'fortinbras', ',', 'holding', 'weake', 'supposall', 'worth', ';', 'thinking', 'late', 'deere', 'brothers', 'death', ',', 'state', 'disioynt', ',', 'frame', ',', 'colleagued', 'dreame', 'aduantage', ';', 'hath', 'fayl', \"'d\", 'pester', 'vs', 'message', ',', 'importing', 'surrender', 'lands', 'lost', 'father', ':', 'bonds', 'law', 'valiant', 'brother', '.', 'much', '.', 'enter', 'voltemand', 'cornelius', '.', 'selfe', ',', 'time', 'meeting', 'thus', 'much', 'businesse', '.', 'haue', 'heere', 'writ', 'norway', ',', 'vncle', 'young', 'fortinbras', ',', 'impotent', 'bedrid', ',', 'scarsely', 'heares', 'nephewes', 'purpose', ',', 'suppresse', 'gate', 'heerein', '.', 'leuies', ',', 'lists', ',', 'full', 'proportions', 'made', 'subiect', ':', 'heere', 'dispatch', 'good', 'cornelius', ',', 'voltemand', ',', 'bearing', 'greeting', 'old', 'norway', ',', 'giuing', 'personall', 'power', 'businesse', 'king', ',', 'scope', 'dilated', 'articles', 'allow', ':', 'farewell', ',', 'let', 'hast', 'commend', 'duty', 'volt', '.', ',', 'things', ',', 'shew', 'duty', 'king', '.', 'doubt', 'nothing', ',', 'heartily', 'farewell', '.', 'exit', 'voltemand', 'cornelius', '.', 'laertes', ',', \"'s\", 'newes', '?', 'told', 'vs', 'suite', '.', \"is't\", 'laertes', '?', 'speake', 'reason', 'dane', ',', 'loose', 'voyce', '.', \"would'st\", 'thou', 'beg', 'laertes', ',', 'shall', 'offer', ',', 'thy', 'asking', '?', 'head', 'natiue', 'heart', ',', 'hand', 'instrumentall', 'mouth', ',', 'throne', 'denmarke', 'thy', 'father', '.', \"would'st\", 'thou', 'haue', 'laertes', '?', 'laer', '.', 'dread', 'lord', ',', 'leaue', 'fauour', 'returne', 'france', ',', 'whence', ',', 'though', 'willingly', 'came', 'denmarke', 'shew', 'duty', 'coronation', ',', 'yet', 'must', 'confesse', ',', 'duty', 'done', ',', 'thoughts', 'wishes', 'bend', 'againe', 'towards', 'france', ',', 'bow', 'gracious', 'leaue', 'pardon', 'king', '.', 'haue', 'fathers', 'leaue', '?', 'sayes', 'pollonius', '?', 'pol', '.', 'hath', 'lord', ':', 'beseech', 'giue', 'leaue', 'go', 'king', '.', 'take', 'thy']\n"
          ]
        }
      ]
    }
  ]
}