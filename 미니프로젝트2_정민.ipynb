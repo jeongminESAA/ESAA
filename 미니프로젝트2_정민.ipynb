{
  "nbformat": 4,
  "nbformat_minor": 0,
  "metadata": {
    "colab": {
      "provenance": [],
      "authorship_tag": "ABX9TyO5zPv4/0bee18sEQfaHDpW",
      "include_colab_link": true
    },
    "kernelspec": {
      "name": "python3",
      "display_name": "Python 3"
    },
    "language_info": {
      "name": "python"
    }
  },
  "cells": [
    {
      "cell_type": "markdown",
      "metadata": {
        "id": "view-in-github",
        "colab_type": "text"
      },
      "source": [
        "<a href=\"https://colab.research.google.com/github/ujeongmin/ESAA/blob/main/%EB%AF%B8%EB%8B%88%ED%94%84%EB%A1%9C%EC%A0%9D%ED%8A%B82_%EC%A0%95%EB%AF%BC.ipynb\" target=\"_parent\"><img src=\"https://colab.research.google.com/assets/colab-badge.svg\" alt=\"Open In Colab\"/></a>"
      ]
    },
    {
      "cell_type": "markdown",
      "source": [
        "## 필요한 라이브러리, 데이터 불러오기 (공통 부분)"
      ],
      "metadata": {
        "id": "1Jy5aoHVtqhh"
      }
    },
    {
      "cell_type": "code",
      "source": [
        "import pandas as pd\n",
        "import seaborn as sns\n",
        "import matplotlib.pyplot as plt\n",
        "%matplotlib inline"
      ],
      "metadata": {
        "id": "tKGAa46qtnPQ"
      },
      "execution_count": 55,
      "outputs": []
    },
    {
      "cell_type": "code",
      "execution_count": 56,
      "metadata": {
        "colab": {
          "base_uri": "https://localhost:8080/"
        },
        "id": "4hobYh7YswJ0",
        "outputId": "633641eb-1eed-4760-c477-18a716068fda"
      },
      "outputs": [
        {
          "output_type": "stream",
          "name": "stdout",
          "text": [
            "Drive already mounted at /content/gdrive; to attempt to forcibly remount, call drive.mount(\"/content/gdrive\", force_remount=True).\n"
          ]
        }
      ],
      "source": [
        "from google.colab import drive\n",
        "drive.mount('/content/gdrive')\n",
        "\n",
        "test = pd.read_csv('/content/gdrive/MyDrive/ESAA/data/wine/test.csv')\n",
        "train = pd.read_csv('/content/gdrive/MyDrive/ESAA/data/wine/train.csv')\n",
        "sub = pd.read_csv('/content/gdrive/MyDrive/ESAA/data/wine/sample_submission.csv')"
      ]
    },
    {
      "cell_type": "code",
      "source": [
        "# index 칼럼 드랍\n",
        "train = train.drop('index', axis = 1)\n",
        "test = test.drop('index', axis = 1)\n",
        "\n",
        "# 라벨 인코딩 > white와 red를 각각 0, 1로 변환\n",
        "from sklearn.preprocessing import LabelEncoder\n",
        "\n",
        "enc = LabelEncoder()\n",
        "enc.fit(train['type'])\n",
        "train['type'] = enc.transform(train['type'])\n",
        "test['type'] = enc.transform(test['type'])"
      ],
      "metadata": {
        "id": "D5WxVh4RNB8o"
      },
      "execution_count": 57,
      "outputs": []
    },
    {
      "cell_type": "markdown",
      "source": [
        "\n",
        "\n",
        "---\n",
        "\n"
      ],
      "metadata": {
        "id": "xHG1SWU2By22"
      }
    },
    {
      "cell_type": "markdown",
      "source": [
        "## XGBoost"
      ],
      "metadata": {
        "id": "AXf9IeG2Mm5m"
      }
    },
    {
      "cell_type": "markdown",
      "source": [
        "### 데이터 정규화 시 오히려 전반적으로 점수가 하락해서 정규화 없이 진행하기로 함\n",
        "* XGBoost는 트리 기반 모델이기 때문에 피처 스케일링과 정규화가 필수적이지 않음. 데이터 크기보다는 대소 관계의 영향을 받기 때문"
      ],
      "metadata": {
        "id": "HuOi6CWypOjT"
      }
    },
    {
      "cell_type": "code",
      "source": [
        "from xgboost import XGBClassifier\n",
        "import xgboost as xgb\n",
        "import pandas as pd\n",
        "import numpy as np"
      ],
      "metadata": {
        "id": "K2jyIEIvMmfr"
      },
      "execution_count": 58,
      "outputs": []
    },
    {
      "cell_type": "code",
      "source": [
        "train1 = train.copy()\n",
        "test1 = test.copy()\n",
        "\n",
        "train_x = train1.drop('quality', axis = 1)       # 학습 피처 데이터 세트\n",
        "train_y = train1['quality']                      # 학습 레이블 데이터 세트\n",
        "test_x = test1                                   # 테스트 피처 데이터 세트"
      ],
      "metadata": {
        "id": "azN_0iL5hcUm"
      },
      "execution_count": 59,
      "outputs": []
    },
    {
      "cell_type": "code",
      "source": [
        "le = LabelEncoder()\n",
        "train_y = le.fit_transform(train_y)"
      ],
      "metadata": {
        "id": "N32xrMcOitUx"
      },
      "execution_count": 60,
      "outputs": []
    },
    {
      "cell_type": "code",
      "source": [
        "# 하이퍼 파라미터\n",
        "\n",
        "from sklearn.model_selection import GridSearchCV\n",
        "\n",
        "xgb = XGBClassifier(n_estimators=100)\n",
        "\n",
        "params = {'max_depth': [13,14,15] , 'min_child_weight': [1,2] ,'colsample_bytree': [0.5,0.75]}\n",
        "\n",
        "gridcv = GridSearchCV(xgb, param_grid=params, scoring='accuracy', cv=5, verbose=1)\n",
        "gridcv.fit(train_x, train_y)\n",
        "\n",
        "print('GridSearchCV 최고 평균 정확도 수치: {0:.4f}'.format(gridcv.best_score_))\n",
        "print('GridSearchCV 최적 파라미터:', gridcv.best_params_)"
      ],
      "metadata": {
        "colab": {
          "base_uri": "https://localhost:8080/"
        },
        "id": "q0YaUNywFNGW",
        "outputId": "92aac6d2-2c45-4b26-999f-a206c851c43a"
      },
      "execution_count": 61,
      "outputs": [
        {
          "output_type": "stream",
          "name": "stdout",
          "text": [
            "Fitting 5 folds for each of 12 candidates, totalling 60 fits\n",
            "GridSearchCV 최고 평균 정확도 수치: 0.6624\n",
            "GridSearchCV 최적 파라미터: {'colsample_bytree': 0.75, 'max_depth': 14, 'min_child_weight': 1}\n"
          ]
        }
      ]
    },
    {
      "cell_type": "code",
      "source": [
        "model = XGBClassifier(n_estimator=1000, max_depth=14, min_child_weight=1, colsample_bytree=0.75)\n",
        "\n",
        "model.fit(train_x, train_y, eval_metric='logloss')\n",
        "y_pred = model.predict(test_x)\n",
        "\n",
        "### 점수: 0.693 ###"
      ],
      "metadata": {
        "colab": {
          "base_uri": "https://localhost:8080/"
        },
        "id": "OeYYY1CHNzkJ",
        "outputId": "c1890abf-7be4-4d01-e36e-f8328588ac21"
      },
      "execution_count": null,
      "outputs": [
        {
          "output_type": "stream",
          "name": "stderr",
          "text": [
            "/usr/local/lib/python3.10/dist-packages/xgboost/sklearn.py:885: UserWarning: `eval_metric` in `fit` method is deprecated for better compatibility with scikit-learn, use `eval_metric` in constructor or`set_params` instead.\n",
            "  warnings.warn(\n",
            "/usr/local/lib/python3.10/dist-packages/xgboost/core.py:160: UserWarning: [10:47:26] WARNING: /workspace/src/learner.cc:742: \n",
            "Parameters: { \"n_estimator\" } are not used.\n",
            "\n",
            "  warnings.warn(smsg, UserWarning)\n"
          ]
        }
      ]
    },
    {
      "cell_type": "markdown",
      "source": [
        "\n",
        "### 정확도 개선 위해 기존 파라미터에 learning_rate, reg_alpha 추가하고 GridSearch 수행\n"
      ],
      "metadata": {
        "id": "HxRaq-oXUqL3"
      }
    },
    {
      "cell_type": "code",
      "source": [
        "# 하이퍼 파라미터\n",
        "\n",
        "from sklearn.model_selection import GridSearchCV\n",
        "\n",
        "xgb = XGBClassifier(n_estimators=100)\n",
        "\n",
        "params = {'max_depth': [14] , 'min_child_weight': [1] ,'colsample_bytree': [0.75], 'learning_rate':[0.01,0.04,0.06],'reg_alpha':[0.01,0.03,0.05]}\n",
        "\n",
        "gridcv = GridSearchCV(xgb, param_grid=params, scoring='accuracy', cv=5, verbose=1)\n",
        "gridcv.fit(train_x, train_y)\n",
        "\n",
        "print('GridSearchCV 최고 평균 정확도 수치: {0:.4f}'.format(gridcv.best_score_))\n",
        "print('GridSearchCV 최적 파라미터:', gridcv.best_params_)"
      ],
      "metadata": {
        "colab": {
          "base_uri": "https://localhost:8080/"
        },
        "id": "Z9X_B2RLIJyD",
        "outputId": "9eb45174-49d8-4f4a-c8a2-1a7d3da78cae"
      },
      "execution_count": 62,
      "outputs": [
        {
          "output_type": "stream",
          "name": "stdout",
          "text": [
            "Fitting 5 folds for each of 9 candidates, totalling 45 fits\n",
            "GridSearchCV 최고 평균 정확도 수치: 0.6693\n",
            "GridSearchCV 최적 파라미터: {'colsample_bytree': 0.75, 'learning_rate': 0.04, 'max_depth': 14, 'min_child_weight': 1, 'reg_alpha': 0.03}\n"
          ]
        }
      ]
    },
    {
      "cell_type": "code",
      "source": [
        "model = XGBClassifier(n_estimator=1000, max_depth=14, min_child_weight=1, colsample_bytree=0.75, learning_rate=0.04, reg_alpha=0.03)\n",
        "\n",
        "model.fit(train_x, train_y, eval_metric='logloss')\n",
        "y_pred = model.predict(test_x)\n",
        "\n",
        "### 점수: 0.702 ###"
      ],
      "metadata": {
        "colab": {
          "base_uri": "https://localhost:8080/"
        },
        "id": "EGBRpbkgU-gL",
        "outputId": "78e40258-f613-41a3-9f47-eda0a3cba290"
      },
      "execution_count": null,
      "outputs": [
        {
          "output_type": "stream",
          "name": "stderr",
          "text": [
            "/usr/local/lib/python3.10/dist-packages/xgboost/sklearn.py:885: UserWarning: `eval_metric` in `fit` method is deprecated for better compatibility with scikit-learn, use `eval_metric` in constructor or`set_params` instead.\n",
            "  warnings.warn(\n",
            "/usr/local/lib/python3.10/dist-packages/xgboost/core.py:160: UserWarning: [11:18:21] WARNING: /workspace/src/learner.cc:742: \n",
            "Parameters: { \"n_estimator\" } are not used.\n",
            "\n",
            "  warnings.warn(smsg, UserWarning)\n"
          ]
        }
      ]
    },
    {
      "cell_type": "markdown",
      "source": [
        "### 마지막으로 파라미터 값들 직접 조정하며 점수 확인해본 결과, max_depth를 13으로 설정하는 것이 기존보다 0.001 더 높은 점수를 냄"
      ],
      "metadata": {
        "id": "mOIO8OeR8BLm"
      }
    },
    {
      "cell_type": "code",
      "source": [
        "model = XGBClassifier(n_estimator=1000, max_depth=13, min_child_weight=1, colsample_bytree=0.75, learning_rate=0.04, reg_alpha=0.03)\n",
        "\n",
        "model.fit(train_x, train_y, eval_metric='logloss')\n",
        "y_pred = model.predict(test_x)"
      ],
      "metadata": {
        "colab": {
          "base_uri": "https://localhost:8080/"
        },
        "id": "yMq3nzSc7-P0",
        "outputId": "6bc7920e-63c5-404d-fab6-a725a116e0ff"
      },
      "execution_count": 36,
      "outputs": [
        {
          "output_type": "stream",
          "name": "stderr",
          "text": [
            "/usr/local/lib/python3.10/dist-packages/xgboost/core.py:160: UserWarning: [11:58:49] WARNING: /workspace/src/learner.cc:742: \n",
            "Parameters: { \"n_estimator\" } are not used.\n",
            "\n",
            "  warnings.warn(smsg, UserWarning)\n"
          ]
        }
      ]
    },
    {
      "cell_type": "code",
      "source": [
        "# submission 파일 저장\n",
        "\n",
        "sub['quality'] = y_pred + 3\n",
        "sub.to_csv('/content/gdrive/MyDrive/ESAA/data/wine/submission.csv', index=False)\n",
        "\n",
        "### 최종 점수: 0.703 ###"
      ],
      "metadata": {
        "id": "235YHP637__B"
      },
      "execution_count": 35,
      "outputs": []
    }
  ]
}