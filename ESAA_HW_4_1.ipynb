{
  "nbformat": 4,
  "nbformat_minor": 0,
  "metadata": {
    "colab": {
      "provenance": [],
      "include_colab_link": true
    },
    "kernelspec": {
      "name": "python3",
      "display_name": "Python 3"
    },
    "language_info": {
      "name": "python"
    }
  },
  "cells": [
    {
      "cell_type": "markdown",
      "metadata": {
        "id": "view-in-github",
        "colab_type": "text"
      },
      "source": [
        "<a href=\"https://colab.research.google.com/github/ujeongmin/ESAA/blob/main/ESAA_HW_4_1.ipynb\" target=\"_parent\"><img src=\"https://colab.research.google.com/assets/colab-badge.svg\" alt=\"Open In Colab\"/></a>"
      ]
    },
    {
      "cell_type": "markdown",
      "source": [
        "(파이썬 머신러닝 완벽 가이드)\n",
        "## [CH8 텍스트 분석]\n",
        "NLP는 머신이 인간의 언어를 이해하고 해석하는 데 중점, 텍스트 마이닝은 비정형 텍스트에서 의미 있는 정보를 추출하는 것에 중점\n",
        "\n",
        "ex) NLP - 번역, 질의응답 시스템 등 / 텍스트 분석 - 머신러닝, 비즈니스 인텔리전스, 예측 분석 등\n"
      ],
      "metadata": {
        "id": "ORUIo6x5aaMd"
      }
    },
    {
      "cell_type": "markdown",
      "source": [
        "### 01. 텍스트 분석 이해\n",
        "머신러닝 알고리즘은 숫자형의 피처 기반 데이터만 입력받을 수 있음  \n",
        "텍스트를 word 기반의 다수의 피처로 추출하고 이 피처에 단어 빈도수와 같은 숫자값을 부여 -> 단어의 조합인 벡터값으로 표현될 수 있음\n",
        "* BOW(Bag of Words) 방법\n",
        "\n",
        "텍스트 분석 수행 프로세스 : 텍스트 전처리 -> 피처 벡터화/추출 -> ML 모델 수립 및 학습/예측/평가\n",
        "\n",
        "파이썬 기반의 NLP, 텍스트 분석 패키지 : NLTK, Gensim, SpaCy\n",
        "\n"
      ],
      "metadata": {
        "id": "sHgMhhwsejgq"
      }
    },
    {
      "cell_type": "markdown",
      "source": [
        "### 02. 텍스트 사전 준비 작업(텍스트 전처리) - 텍스트 정규화\n",
        "#### 클렌징\n",
        "텍스트에서 분석에 방해가 되는 불필요한 문자, 기호등을 사전에 제거 (ex) HTML, XML 태그, 기호\n",
        "\n",
        "#### 텍스트 토큰화\n",
        "문서에서 문장을 분리하는 문장 토큰화, 문장에서 단어를 분리하는 단어 토큰화\n",
        "\n",
        "* 문장 토큰화"
      ],
      "metadata": {
        "id": "HuloTEhoek5f"
      }
    },
    {
      "cell_type": "code",
      "source": [
        "from nltk import sent_tokenize\n",
        "import nltk\n",
        "nltk.download('punkt')\n",
        "\n",
        "text_sample = 'The Matrix is everywhere its all around us, here even in this room. You can see it out your window or on your television. You feel it when you go to work, or go to church or pay your taxes.'\n",
        "sentences = sent_tokenize(text=text_sample)\n",
        "print(type(sentences), len(sentences))\n",
        "print(sentences)"
      ],
      "metadata": {
        "colab": {
          "base_uri": "https://localhost:8080/"
        },
        "id": "Ul7eWGeeeezB",
        "outputId": "2e1dc9a1-1e1e-450b-f354-582a497b19f7"
      },
      "execution_count": 1,
      "outputs": [
        {
          "output_type": "stream",
          "name": "stderr",
          "text": [
            "[nltk_data] Downloading package punkt to /root/nltk_data...\n",
            "[nltk_data]   Unzipping tokenizers/punkt.zip.\n"
          ]
        },
        {
          "output_type": "stream",
          "name": "stdout",
          "text": [
            "<class 'list'> 3\n",
            "['The Matrix is everywhere its all around us, here even in this room.', 'You can see it out your window or on your television.', 'You feel it when you go to work, or go to church or pay your taxes.']\n"
          ]
        }
      ]
    },
    {
      "cell_type": "markdown",
      "source": [
        "* sent_tokenize()는 문장으로 구성된 list 반환\n",
        "\n",
        "* 단어 토큰화  \n",
        "\n",
        "기본적으로 공백, 콤마, 마침표 등으로 단어 분리  \n",
        "BOW와 같이 단어의 순서가 중요하지 않은 경우 문장 토큰화를 사용하지 않고 단어 토큰화만 사용해도 충분"
      ],
      "metadata": {
        "id": "CxcLs2VafqWp"
      }
    },
    {
      "cell_type": "code",
      "source": [
        "from nltk import word_tokenize\n",
        "\n",
        "sentence = 'The Matrix is everywhere its all around us, here even in this room.'\n",
        "words = word_tokenize(sentence)\n",
        "print(type(words), len(words))\n",
        "print(words)"
      ],
      "metadata": {
        "colab": {
          "base_uri": "https://localhost:8080/"
        },
        "id": "e54Jl-lAfzkd",
        "outputId": "075e1464-1b3b-463c-9ce1-a078d4e1f012"
      },
      "execution_count": 2,
      "outputs": [
        {
          "output_type": "stream",
          "name": "stdout",
          "text": [
            "<class 'list'> 15\n",
            "['The', 'Matrix', 'is', 'everywhere', 'its', 'all', 'around', 'us', ',', 'here', 'even', 'in', 'this', 'room', '.']\n"
          ]
        }
      ]
    },
    {
      "cell_type": "code",
      "source": [
        "from nltk import word_tokenize, sent_tokenize\n",
        "\n",
        "# 여러 개의 문장으로 된 입력 데이터를 문장별로 단어 토큰화하게 만드는 함수 생성\n",
        "def tokenize_text(text):\n",
        "  # 문장별로 분리 토큰\n",
        "  sentences = sent_tokenize(text)\n",
        "  # 분리된 문장별 단어 토큰화\n",
        "  word_tokens = [word_tokenize(sentence) for sentence in sentences]\n",
        "  return word_tokens\n",
        "\n",
        "# 여러 문장에 대해 문장별 단어 토큰화 수행\n",
        "word_tokens = tokenize_text(text_sample)\n",
        "print(type(word_tokens), len(word_tokens))\n",
        "print(word_tokens)"
      ],
      "metadata": {
        "colab": {
          "base_uri": "https://localhost:8080/"
        },
        "id": "rkLYs1Nohgo0",
        "outputId": "70b1e431-18ef-41c2-9484-143e59b47fc2"
      },
      "execution_count": 3,
      "outputs": [
        {
          "output_type": "stream",
          "name": "stdout",
          "text": [
            "<class 'list'> 3\n",
            "[['The', 'Matrix', 'is', 'everywhere', 'its', 'all', 'around', 'us', ',', 'here', 'even', 'in', 'this', 'room', '.'], ['You', 'can', 'see', 'it', 'out', 'your', 'window', 'or', 'on', 'your', 'television', '.'], ['You', 'feel', 'it', 'when', 'you', 'go', 'to', 'work', ',', 'or', 'go', 'to', 'church', 'or', 'pay', 'your', 'taxes', '.']]\n"
          ]
        }
      ]
    },
    {
      "cell_type": "markdown",
      "source": [
        "* 문장을 단어별로 하나씩 토큰화 할 경우 문맥적인 의미는 무시될 수 밖에 없음\n",
        "* 이를 조금이라도 해결하기 위해 n-gram 도입\n",
        "* n-gram : 연속된 n개의 단어를 하나의 토큰화 단위로 분리, n개 단어 크기 윈도우를 만들어 문장의 처음부터 오른쪽으로 움직이면서 토큰화 수행\n",
        "\n",
        "#### 스톱 워드 제거\n",
        "분석에 큰 의미가 없는 단어 제거 (ex) is, the, a, will 등\n",
        "* NTLK에 스톱워드가 언어별로 목록화되어 있음"
      ],
      "metadata": {
        "id": "kbZzacx3lg6x"
      }
    },
    {
      "cell_type": "code",
      "source": [
        "import nltk\n",
        "nltk.download('stopwords')"
      ],
      "metadata": {
        "colab": {
          "base_uri": "https://localhost:8080/"
        },
        "id": "Mq_E0h1xFJbS",
        "outputId": "37a1556d-d757-46d4-874a-a2e188d379b0"
      },
      "execution_count": 4,
      "outputs": [
        {
          "output_type": "stream",
          "name": "stderr",
          "text": [
            "[nltk_data] Downloading package stopwords to /root/nltk_data...\n",
            "[nltk_data]   Unzipping corpora/stopwords.zip.\n"
          ]
        },
        {
          "output_type": "execute_result",
          "data": {
            "text/plain": [
              "True"
            ]
          },
          "metadata": {},
          "execution_count": 4
        }
      ]
    },
    {
      "cell_type": "code",
      "source": [
        "print('영어 stop words 개수:', len(nltk.corpus.stopwords.words('english')))\n",
        "print(nltk.corpus.stopwords.words('english')[:20])"
      ],
      "metadata": {
        "colab": {
          "base_uri": "https://localhost:8080/"
        },
        "id": "xs97AXs7FNg3",
        "outputId": "24f506cc-3f4b-4a36-c5d3-9848226f2bd0"
      },
      "execution_count": 5,
      "outputs": [
        {
          "output_type": "stream",
          "name": "stdout",
          "text": [
            "영어 stop words 개수: 179\n",
            "['i', 'me', 'my', 'myself', 'we', 'our', 'ours', 'ourselves', 'you', \"you're\", \"you've\", \"you'll\", \"you'd\", 'your', 'yours', 'yourself', 'yourselves', 'he', 'him', 'his']\n"
          ]
        }
      ]
    },
    {
      "cell_type": "markdown",
      "source": [
        "* 영어는 스톱 워드가 179개"
      ],
      "metadata": {
        "id": "ayl_RPFlGAEK"
      }
    },
    {
      "cell_type": "code",
      "source": [
        "import nltk\n",
        "\n",
        "stopwords = nltk.corpus.stopwords.words('english')\n",
        "all_tokens = []\n",
        "# 위 예제에서 3개의 문장별로 얻은 word_tokens list에 대해 스톱 워드를 제거하는 반복문\n",
        "for sentence in word_tokens:\n",
        "  filtered_words = []\n",
        "  # 개별 문장별로 토큰화된 문장 list에 대해 스톱 워드를 제거하는 반복문\n",
        "  for word in sentence:\n",
        "    # 소문자로 모두 변환\n",
        "    word = word.lower()\n",
        "    # 토큰화된 개별 단어가 스톱 워드의 단어에 포함되지 않으면 word_tokens에 추가\n",
        "    if word not in stopwords:\n",
        "      filtered_words.append(word)\n",
        "  all_tokens.append(filtered_words)\n",
        "\n",
        "print(all_tokens)"
      ],
      "metadata": {
        "id": "Ylm18fE-GOyP",
        "colab": {
          "base_uri": "https://localhost:8080/"
        },
        "outputId": "08242b21-3a44-45e0-e3c6-6a349f91a522"
      },
      "execution_count": 8,
      "outputs": [
        {
          "output_type": "stream",
          "name": "stdout",
          "text": [
            "[['matrix', 'everywhere', 'around', 'us', ',', 'even', 'room', '.'], ['see', 'window', 'television', '.'], ['feel', 'go', 'work', ',', 'go', 'church', 'pay', 'taxes', '.']]\n"
          ]
        }
      ]
    },
    {
      "cell_type": "markdown",
      "source": [
        "#### Stemming과 Lemmatization\n",
        "문법적인 요소에 따라 단어가 다양하게 변하는데 (과거, 현재, 3인칭, 진행형 등) Stemming과 Lemmatization은 문법적 또는 의미적으로 변화하는 단어의 원형을 찾음\n",
        "\n",
        "Stemming: 원형 단어로 변환시 일반적인 방법을 적용하거나 더 단순화된 방법을 적용  \n",
        "Lemmatization: 문법적인 요소와 더 의미적인 부분을 감안해 정확한 철자로 된 어근 단어 찾음 (더 오래 걸림)"
      ],
      "metadata": {
        "id": "5E_y_mFmv4eh"
      }
    },
    {
      "cell_type": "code",
      "source": [
        "from nltk.stem import LancasterStemmer\n",
        "stemmer = LancasterStemmer()\n",
        "\n",
        "print(stemmer.stem('working'), stemmer.stem('works'), stemmer.stem('worked'))\n",
        "print(stemmer.stem('amusing'), stemmer.stem('amuses'), stemmer.stem('amused'))\n",
        "print(stemmer.stem('happier'), stemmer.stem('happiest'))\n",
        "print(stemmer.stem('fancier'), stemmer.stem('fanciest'))"
      ],
      "metadata": {
        "colab": {
          "base_uri": "https://localhost:8080/"
        },
        "id": "7X3XH140wqdq",
        "outputId": "dad2e511-514f-4e49-8e00-a7b42682ec19"
      },
      "execution_count": 11,
      "outputs": [
        {
          "output_type": "stream",
          "name": "stdout",
          "text": [
            "work work work\n",
            "amus amus amus\n",
            "happy happiest\n",
            "fant fanciest\n"
          ]
        }
      ]
    },
    {
      "cell_type": "markdown",
      "source": [
        "* work는 단순히 뒤에 붙는 변화만 있어서 제대로 인식하지만, amuse, happy, fancy는 원형을 잘 찾지 못함"
      ],
      "metadata": {
        "id": "BDgQndLHxKuG"
      }
    },
    {
      "cell_type": "code",
      "source": [
        "from nltk.stem import WordNetLemmatizer\n",
        "import nltk\n",
        "nltk.download('wordnet')\n",
        "\n",
        "lemma = WordNetLemmatizer()\n",
        "print(lemma.lemmatize('amusing', 'v'), lemma.lemmatize('amuses', 'v'), lemma.lemmatize('amused', 'v'))\n",
        "print(lemma.lemmatize('happier', 'a'), lemma.lemmatize('happiest', 'a'))\n",
        "print(lemma.lemmatize('fancier', 'a'), lemma.lemmatize('fanciest', 'a'))"
      ],
      "metadata": {
        "colab": {
          "base_uri": "https://localhost:8080/"
        },
        "id": "peNRzODBxali",
        "outputId": "699d8dfa-2f84-4950-9af4-942fc64f9d83"
      },
      "execution_count": 12,
      "outputs": [
        {
          "output_type": "stream",
          "name": "stderr",
          "text": [
            "[nltk_data] Downloading package wordnet to /root/nltk_data...\n"
          ]
        },
        {
          "output_type": "stream",
          "name": "stdout",
          "text": [
            "amuse amuse amuse\n",
            "happy happy\n",
            "fancy fancy\n"
          ]
        }
      ]
    },
    {
      "cell_type": "markdown",
      "source": [
        "* Stemmer보다 정확하게 원형 단어 추출해줌"
      ],
      "metadata": {
        "id": "D8PZjt3qx36W"
      }
    },
    {
      "cell_type": "markdown",
      "source": [
        "### 03. Bag of Words - BOW\n",
        "문서가 가지는 모든 단어를 문맥이나 순서를 무시하고 일괄적으로 단어에 대해 빈도 값을 부여해 피처 값을 추출하는 모델  \n",
        "쉽고 빠르지만 문맥 의미 반영 부족, 희소 행렬 문제 등의 단점 존재\n",
        "\n",
        "#### BOW 피처 벡터화\n",
        "ML 알고리즘은 일반적으로 숫자형 피처를 데이터로 입력받기 때문에 텍스트는 특정 의미를 가지는 숫자형 값인 벡터 값으로 변환해야 함\n",
        "* 피처 벡터화 2가지 방법  \n",
        "카운트 기반의 벡터화 : 문서에서 단어 등장 횟수 Count    \n",
        "TF-IDF 기반의 벡터화 : 개별 문서에서 자주 나타나는 단어에 가중치, 모든 문서 전반적으로 자주 나타나는 단어는 패널티 부여 (더 좋은 예측 성능)\n",
        "\n",
        "#### 사이킷런의 Count 및 TF-IDF 벡터화 구현: CountVectorizer, TfidfVectorizer\n",
        "CountVectorizer 클래스는 소문자 일괄 변환, 토큰화, 스톱 워드 필터링 등의 텍스트 전처리도 함께 수행함\n",
        "* 입력 파라미터 : max_df, min_df, max_features, stop_words, n_gram_range 등\n",
        "* 절차 : 모두 소문자 변환 등의 전처리 작업 > 단어 기준으로 n_gram_range를 반영해 각 단어를 토큰화 > 텍스트 정규화 > 입력 파라미터를 이용해 토큰화된 단어를 피처로 추출하고 단어 빈도수 벡터 값을 적용(피처 벡터화)  \n",
        "\n",
        "TF_IDF 벡터화는 TfidfVectorizer 클래스 이용, 파라미터와 변환 방법은 위와 동일"
      ],
      "metadata": {
        "id": "X08NjVvux80C"
      }
    },
    {
      "cell_type": "markdown",
      "source": [
        "\n",
        "#### BOW 벡터화를 위한 희소 행렬\n",
        "위 클래스를 이용해 벡터화하고 CSR 형태의 희소 행렬을 반환  \n",
        "대규모 행렬의 대부분의 값을 0이 차지하는 행렬을 희소 행렬이라고 함\n",
        "\n",
        "#### 희소 행렬 - COO 형식\n",
        "0이 아닌 데이터만 별도의 데이터 배열에 저장하고, 그 데이터가 가리키는 행과 열의 위치를 별도의 배열로 저장하는 방식\n",
        "* Scipy의 sparse 패키지 coo_matrix 클래스"
      ],
      "metadata": {
        "id": "n3QXaeo--5Ri"
      }
    },
    {
      "cell_type": "code",
      "source": [
        "import numpy as np\n",
        "\n",
        "dense = np.array([[3,0,1],[0,2,0]])"
      ],
      "metadata": {
        "id": "rnIW14OeAGdo"
      },
      "execution_count": 13,
      "outputs": []
    },
    {
      "cell_type": "code",
      "source": [
        "from scipy import sparse\n",
        "\n",
        "# 0이 아닌 데이터 추출\n",
        "data = np.array([3,1,2])\n",
        "\n",
        "# 행 위치와 열 위치를 각각 배열로 생성\n",
        "row_pos = np.array([0,0,1])\n",
        "col_pos = np.array([0,2,1])\n",
        "\n",
        "# sparse 패키지의 coo_matrix를 이용해 COO 형식으로 희소 행렬 생성\n",
        "sparse_coo = sparse.coo_matrix((data, (row_pos, col_pos)))"
      ],
      "metadata": {
        "id": "fcVwtsbOALhi"
      },
      "execution_count": 14,
      "outputs": []
    },
    {
      "cell_type": "markdown",
      "source": [
        "* sparse_coo는 COO 형식의 희소 행렬 객체 변수, 이를 toarray() 메서드를 이용해 다시 밀집 형태로 행렬로 출력"
      ],
      "metadata": {
        "id": "8Ty-pv_sAmIm"
      }
    },
    {
      "cell_type": "code",
      "source": [
        "sparse_coo.toarray()"
      ],
      "metadata": {
        "colab": {
          "base_uri": "https://localhost:8080/"
        },
        "id": "tMaNiaBdAsa9",
        "outputId": "7785419a-bea5-444b-d9bb-9fa12f473d7f"
      },
      "execution_count": 15,
      "outputs": [
        {
          "output_type": "execute_result",
          "data": {
            "text/plain": [
              "array([[3, 0, 1],\n",
              "       [0, 2, 0]])"
            ]
          },
          "metadata": {},
          "execution_count": 15
        }
      ]
    },
    {
      "cell_type": "markdown",
      "source": [
        "#### 희소 행렬 - CSR 형식\n",
        "COO 형식이 행과 열의 위치를 나타내기 위해서 반복적인 위치 데이터를 사용해야 하는 문제점을 해결한 방식  \n",
        "고유 값의 시작 위치만 알고 있으면 얼마든지 행 위치 배열을 다시 만들 수 있기에 메모리가 적게 들고 빠른 연산 가능\n",
        "* csr_matrix 클래스 이용"
      ],
      "metadata": {
        "id": "H8zl4uvlAwS9"
      }
    },
    {
      "cell_type": "code",
      "source": [
        "from scipy import sparse\n",
        "\n",
        "dense2 = np.array([[0,0,1,0,0,5],\n",
        "                   [1,4,0,3,2,5],\n",
        "                   [0,6,0,3,0,0],\n",
        "                   [2,0,0,0,0,0],\n",
        "                   [0,0,0,7,0,8],\n",
        "                   [1,0,0,0,0,0]])\n",
        "\n",
        "# 0이 아닌 데이터 추출\n",
        "data2 = np.array([1,5,1,4,3,2,5,6,3,2,7,8,1])\n",
        "\n",
        "# 행 위치와 열 위치를 각각 array로 생성\n",
        "row_pos = np.array([0,0,1,1,1,1,1,2,2,3,4,4,5])\n",
        "col_pos = np.array([2,5,0,1,3,4,5,1,3,0,3,5,0])\n",
        "\n",
        "# COO 형식으로 변환\n",
        "sparse_coo = sparse.coo_matrix((data2, (row_pos, col_pos)))\n",
        "\n",
        "# 행 위치 배열의 고유한 값의 시작 위치 인덱스를 배열로 생성\n",
        "row_pos_ind = np.array([0,2,7,9,10,12,13])\n",
        "\n",
        "# CSR 형식으로 변환\n",
        "sparse_csr = sparse.csr_matrix((data2, col_pos, row_pos_ind))\n",
        "\n",
        "print('COO 변환된 데이터가 제대로 되었는지 다시 Dense로 출력 확인')\n",
        "print(sparse_coo.toarray())\n",
        "print('CSR 변환된 데이터가 제대로 되었는지 다시 Dense로 출력 확인')\n",
        "print(sparse_csr.toarray())"
      ],
      "metadata": {
        "colab": {
          "base_uri": "https://localhost:8080/"
        },
        "id": "S0sdrNosBE-K",
        "outputId": "ed986912-79fc-450b-eedc-a3d63f681302"
      },
      "execution_count": 16,
      "outputs": [
        {
          "output_type": "stream",
          "name": "stdout",
          "text": [
            "COO 변환된 데이터가 제대로 되었는지 다시 Dense로 출력 확인\n",
            "[[0 0 1 0 0 5]\n",
            " [1 4 0 3 2 5]\n",
            " [0 6 0 3 0 0]\n",
            " [2 0 0 0 0 0]\n",
            " [0 0 0 7 0 8]\n",
            " [1 0 0 0 0 0]]\n",
            "CSR 변환된 데이터가 제대로 되었는지 다시 Dense로 출력 확인\n",
            "[[0 0 1 0 0 5]\n",
            " [1 4 0 3 2 5]\n",
            " [0 6 0 3 0 0]\n",
            " [2 0 0 0 0 0]\n",
            " [0 0 0 7 0 8]\n",
            " [1 0 0 0 0 0]]\n"
          ]
        }
      ]
    },
    {
      "cell_type": "markdown",
      "source": [
        "* 실제 사용 시에는 다음과 같이 밀집 행렬을 생성 파라미터로 입력하면 COO나 CSR 희소 행렬로 생성"
      ],
      "metadata": {
        "id": "AVzzqGB-CFVX"
      }
    },
    {
      "cell_type": "code",
      "source": [
        "dense3 = np.array([[0,0,1,0,0,5],\n",
        "                   [1,4,0,3,2,5],\n",
        "                   [0,6,0,3,0,0],\n",
        "                   [2,0,0,0,0,0],\n",
        "                   [0,0,0,7,0,8],\n",
        "                   [1,0,0,0,0,0]])\n",
        "\n",
        "coo = sparse.coo_matrix(dense3)\n",
        "csr = sparse.csr_matrix(dense3)"
      ],
      "metadata": {
        "id": "fVPAPT31CJxn"
      },
      "execution_count": 17,
      "outputs": []
    }
  ]
}